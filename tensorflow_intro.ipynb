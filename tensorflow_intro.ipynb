{
  "nbformat": 4,
  "nbformat_minor": 0,
  "metadata": {
    "kernelspec": {
      "name": "python3",
      "display_name": "Python 3"
    },
    "language_info": {
      "codemirror_mode": {
        "name": "ipython",
        "version": 3
      },
      "file_extension": ".py",
      "mimetype": "text/x-python",
      "name": "python",
      "nbconvert_exporter": "python",
      "pygments_lexer": "ipython3",
      "version": "3.6.9"
    },
    "colab": {
      "name": "TensorFlow.ipynb",
      "provenance": [],
      "collapsed_sections": [],
      "machine_shape": "hm"
    },
    "accelerator": "GPU"
  },
  "cells": [
    {
      "cell_type": "markdown",
      "metadata": {
        "tags": [
          "pdf-title"
        ],
        "id": "I4jLQs8NFqNR",
        "colab_type": "text"
      },
      "source": [
        "# What's this TensorFlow business?\n",
        "\n",
        "You've written a lot of code in this assignment to provide a whole host of neural network functionality. Dropout, Batch Norm, and 2D convolutions are some of the workhorses of deep learning in computer vision. You've also worked hard to make your code efficient and vectorized.\n",
        "\n",
        "For the last part of this assignment, though, we're going to leave behind your beautiful codebase and instead migrate to one of two popular deep learning frameworks: in this instance, TensorFlow (or PyTorch, if you choose to work with that notebook)."
      ]
    },
    {
      "cell_type": "markdown",
      "metadata": {
        "tags": [
          "pdf-ignore"
        ],
        "id": "vaq9OlRjFqNU",
        "colab_type": "text"
      },
      "source": [
        "#### What is it?\n",
        "TensorFlow is a system for executing computational graphs over Tensor objects, with native support for performing backpropogation for its Variables. In it, we work with Tensors which are n-dimensional arrays analogous to the numpy ndarray.\n",
        "\n",
        "#### Why?\n",
        "\n",
        "* Our code will now run on GPUs! Much faster training. Writing your own modules to run on GPUs is beyond the scope of this class, unfortunately.\n",
        "* We want you to be ready to use one of these frameworks for your project so you can experiment more efficiently than if you were writing every feature you want to use by hand. \n",
        "* We want you to stand on the shoulders of giants! TensorFlow and PyTorch are both excellent frameworks that will make your lives a lot easier, and now that you understand their guts, you are free to use them :) \n",
        "* We want you to be exposed to the sort of deep learning code you might run into in academia or industry. "
      ]
    },
    {
      "cell_type": "markdown",
      "metadata": {
        "id": "XaBDAXwjFqNV",
        "colab_type": "text"
      },
      "source": [
        "**Acknowledgement: This exercise is adapted from [Stanford CS231n](http://cs231n.stanford.edu/index.html).**"
      ]
    },
    {
      "cell_type": "markdown",
      "metadata": {
        "tags": [
          "pdf-ignore"
        ],
        "id": "Fxq7TxzLFqNX",
        "colab_type": "text"
      },
      "source": [
        "## How will I learn TensorFlow?\n",
        "\n",
        "TensorFlow has many excellent tutorials available, including those from [Google themselves](https://www.tensorflow.org/get_started/get_started).\n",
        "\n",
        "Otherwise, this notebook will walk you through much of what you need to do to train models in TensorFlow. See the end of the notebook for some links to helpful tutorials if you want to learn more or need further clarification on topics that aren't fully explained here.\n",
        "\n",
        "**NOTE: This notebook is meant to teach you the latest version of Tensorflow 2.0. Most examples on the web today are still in 1.x, so be careful not to confuse the two when looking up documentation**.\n",
        "\n",
        "## Install Tensorflow 2.0\n",
        "Tensorflow 2.0 is still not in a fully 100% stable release, but it's still usable and more intuitive than TF 1.x. Please make sure you have it installed before moving on in this notebook! Here are some steps to get started:\n",
        "\n",
        "1. Have the latest version of Anaconda installed on your machine.\n",
        "2. Create a new conda environment starting from Python 3.7. In this setup example, we'll call it `tf_20_env`.\n",
        "3. Run the command: `source activate tf_20_env`\n",
        "4. Then pip install TF 2.0 as described here: https://www.tensorflow.org/install/pip \n",
        "\n",
        "A guide on creating Anaconda enviornments: https://uoa-eresearch.github.io/eresearch-cookbook/recipe/2014/11/20/conda/\n",
        "\n",
        "This will give you an new enviornemnt to play in TF 2.0. Generally, if you plan to also use TensorFlow in your other projects, you might also want to keep a seperate Conda environment or virtualenv in Python 3.7 that has Tensorflow 1.9, so you can switch back and forth at will. "
      ]
    },
    {
      "cell_type": "markdown",
      "metadata": {
        "id": "lYx4kMMUFqNY",
        "colab_type": "text"
      },
      "source": [
        "**Acknowledgement: This exercise is adapted from [Stanford CS231n](http://cs231n.stanford.edu/index.html).**"
      ]
    },
    {
      "cell_type": "markdown",
      "metadata": {
        "id": "NuWKmZOQFqNa",
        "colab_type": "text"
      },
      "source": [
        "## How will I learn TensorFlow?\n",
        "\n",
        "TensorFlow has many excellent tutorials available, including those from [Google themselves](https://www.tensorflow.org/get_started/get_started).\n",
        "\n",
        "Otherwise, this notebook will walk you through much of what you need to do to train models in TensorFlow. See the end of the notebook for some links to helpful tutorials if you want to learn more or need further clarification on topics that aren't fully explained here.\n",
        "\n",
        "# Part I: Preparation"
      ]
    },
    {
      "cell_type": "code",
      "metadata": {
        "tags": [
          "pdf-ignore"
        ],
        "id": "FBirCVwzFqNb",
        "colab_type": "code",
        "colab": {}
      },
      "source": [
        "import os\n",
        "import tensorflow as tf\n",
        "import numpy as np\n",
        "import math\n",
        "import timeit\n",
        "import matplotlib.pyplot as plt\n",
        "\n",
        "%matplotlib inline"
      ],
      "execution_count": 0,
      "outputs": []
    },
    {
      "cell_type": "code",
      "metadata": {
        "tags": [
          "pdf-ignore"
        ],
        "id": "op8S1TY3FqNg",
        "colab_type": "code",
        "outputId": "2a14aa2d-91f2-4e38-958b-6316c1140e98",
        "colab": {
          "base_uri": "https://localhost:8080/",
          "height": 158
        }
      },
      "source": [
        "def load_cifar10(num_training=49000, num_validation=1000, num_test=10000):\n",
        "    \"\"\"\n",
        "    Fetch the CIFAR-10 dataset from the web and perform preprocessing to prepare\n",
        "    it for the two-layer neural net classifier. These are the same steps as\n",
        "    we used for the SVM, but condensed to a single function.\n",
        "    \"\"\"\n",
        "    # Load the raw CIFAR-10 dataset and use appropriate data types and shapes\n",
        "    cifar10 = tf.keras.datasets.cifar10.load_data()\n",
        "    (X_train, y_train), (X_test, y_test) = cifar10\n",
        "    X_train = np.asarray(X_train, dtype=np.float32)\n",
        "    y_train = np.asarray(y_train, dtype=np.int32).flatten()\n",
        "    X_test = np.asarray(X_test, dtype=np.float32)\n",
        "    y_test = np.asarray(y_test, dtype=np.int32).flatten()\n",
        "\n",
        "    # Subsample the data\n",
        "    mask = range(num_training, num_training + num_validation)\n",
        "    X_val = X_train[mask]\n",
        "    y_val = y_train[mask]\n",
        "    mask = range(num_training)\n",
        "    X_train = X_train[mask]\n",
        "    y_train = y_train[mask]\n",
        "    mask = range(num_test)\n",
        "    X_test = X_test[mask]\n",
        "    y_test = y_test[mask]\n",
        "\n",
        "    # Normalize the data: subtract the mean pixel and divide by std\n",
        "    mean_pixel = X_train.mean(axis=(0, 1, 2), keepdims=True)\n",
        "    std_pixel = X_train.std(axis=(0, 1, 2), keepdims=True)\n",
        "    X_train = (X_train - mean_pixel) / std_pixel\n",
        "    X_val = (X_val - mean_pixel) / std_pixel\n",
        "    X_test = (X_test - mean_pixel) / std_pixel\n",
        "\n",
        "    return X_train, y_train, X_val, y_val, X_test, y_test\n",
        "\n",
        "# If there are errors with SSL downloading involving self-signed certificates,\n",
        "# it may be that your Python version was recently installed on the current machine.\n",
        "# See: https://github.com/tensorflow/tensorflow/issues/10779\n",
        "# To fix, run the command: /Applications/Python\\ 3.7/Install\\ Certificates.command\n",
        "#   ...replacing paths as necessary.\n",
        "\n",
        "# Invoke the above function to get our data.\n",
        "NHW = (0, 1, 2)\n",
        "X_train, y_train, X_val, y_val, X_test, y_test = load_cifar10()\n",
        "print('Train data shape: ', X_train.shape)\n",
        "print('Train labels shape: ', y_train.shape, y_train.dtype)\n",
        "print('Validation data shape: ', X_val.shape)\n",
        "print('Validation labels shape: ', y_val.shape)\n",
        "print('Test data shape: ', X_test.shape)\n",
        "print('Test labels shape: ', y_test.shape)"
      ],
      "execution_count": 0,
      "outputs": [
        {
          "output_type": "stream",
          "text": [
            "Downloading data from https://www.cs.toronto.edu/~kriz/cifar-10-python.tar.gz\n",
            "170500096/170498071 [==============================] - 4s 0us/step\n",
            "Train data shape:  (49000, 32, 32, 3)\n",
            "Train labels shape:  (49000,) int32\n",
            "Validation data shape:  (1000, 32, 32, 3)\n",
            "Validation labels shape:  (1000,)\n",
            "Test data shape:  (10000, 32, 32, 3)\n",
            "Test labels shape:  (10000,)\n"
          ],
          "name": "stdout"
        }
      ]
    },
    {
      "cell_type": "code",
      "metadata": {
        "tags": [
          "pdf-ignore"
        ],
        "id": "kP7IjOgLFqNm",
        "colab_type": "code",
        "colab": {}
      },
      "source": [
        "class Dataset(object):\n",
        "    def __init__(self, X, y, batch_size, shuffle=False):\n",
        "        \"\"\"\n",
        "        Construct a Dataset object to iterate over data X and labels y\n",
        "        \n",
        "        Inputs:\n",
        "        - X: Numpy array of data, of any shape\n",
        "        - y: Numpy array of labels, of any shape but with y.shape[0] == X.shape[0]\n",
        "        - batch_size: Integer giving number of elements per minibatch\n",
        "        - shuffle: (optional) Boolean, whether to shuffle the data on each epoch\n",
        "        \"\"\"\n",
        "        assert X.shape[0] == y.shape[0], 'Got different numbers of data and labels'\n",
        "        self.X, self.y = X, y\n",
        "        self.batch_size, self.shuffle = batch_size, shuffle\n",
        "\n",
        "    def __iter__(self):\n",
        "        N, B = self.X.shape[0], self.batch_size\n",
        "        idxs = np.arange(N)\n",
        "        if self.shuffle:\n",
        "            np.random.shuffle(idxs)\n",
        "        return iter((self.X[i:i+B], self.y[i:i+B]) for i in range(0, N, B))\n",
        "\n",
        "\n",
        "train_dset = Dataset(X_train, y_train, batch_size=64, shuffle=True)\n",
        "val_dset = Dataset(X_val, y_val, batch_size=64, shuffle=False)\n",
        "test_dset = Dataset(X_test, y_test, batch_size=64)"
      ],
      "execution_count": 0,
      "outputs": []
    },
    {
      "cell_type": "code",
      "metadata": {
        "id": "VY79IhKUFqNr",
        "colab_type": "code",
        "outputId": "16813508-a341-4daa-a922-aabe9b56d814",
        "colab": {
          "base_uri": "https://localhost:8080/",
          "height": 141
        }
      },
      "source": [
        "# We can iterate through a dataset like this:\n",
        "for t, (x, y) in enumerate(train_dset):\n",
        "    print(t, x.shape, y.shape)\n",
        "    if t > 5: break"
      ],
      "execution_count": 0,
      "outputs": [
        {
          "output_type": "stream",
          "text": [
            "0 (64, 32, 32, 3) (64,)\n",
            "1 (64, 32, 32, 3) (64,)\n",
            "2 (64, 32, 32, 3) (64,)\n",
            "3 (64, 32, 32, 3) (64,)\n",
            "4 (64, 32, 32, 3) (64,)\n",
            "5 (64, 32, 32, 3) (64,)\n",
            "6 (64, 32, 32, 3) (64,)\n"
          ],
          "name": "stdout"
        }
      ]
    },
    {
      "cell_type": "markdown",
      "metadata": {
        "id": "tYcF_sILFqNx",
        "colab_type": "text"
      },
      "source": [
        "You can optionally **use GPU by setting the flag to True below**. It's not neccessary to use a GPU for this assignment; if you are working on Google Cloud then we recommend that you do not use a GPU, as it will be significantly more expensive."
      ]
    },
    {
      "cell_type": "code",
      "metadata": {
        "tags": [
          "pdf-ignore-input"
        ],
        "id": "hnN-OSpBFqN2",
        "colab_type": "code",
        "outputId": "bca01947-3967-4459-b333-d5cc558580c7",
        "colab": {
          "base_uri": "https://localhost:8080/",
          "height": 34
        }
      },
      "source": [
        "# Set up some global variables\n",
        "USE_GPU = False\n",
        "\n",
        "if USE_GPU:\n",
        "    device = '/device:GPU:0'\n",
        "else:\n",
        "    device = '/cpu:0'\n",
        "\n",
        "# Constant to control how often we print when training models\n",
        "print_every = 100\n",
        "\n",
        "print('Using device: ', device)"
      ],
      "execution_count": 0,
      "outputs": [
        {
          "output_type": "stream",
          "text": [
            "Using device:  /cpu:0\n"
          ],
          "name": "stdout"
        }
      ]
    },
    {
      "cell_type": "markdown",
      "metadata": {
        "tags": [
          "pdf-ignore"
        ],
        "id": "9dtZAKOqFqN9",
        "colab_type": "text"
      },
      "source": [
        "# Part II: Barebones TensorFlow\n",
        "TensorFlow ships with various high-level APIs which make it very convenient to define and train neural networks; we will cover some of these constructs in Part III and Part IV of this notebook. In this section we will start by building a model with basic TensorFlow constructs to help you better understand what's going on under the hood of the higher-level APIs.\n",
        "\n",
        "**\"Barebones Tensorflow\" is important to understanding the building blocks of TensorFlow, but much of it involves concepts from TensorFlow 1.x.** We will be working with legacy modules such as `tf.Variable`.\n",
        "\n",
        "Therefore, please read and understand the differences between legacy (1.x) TF and the new (2.0) TF.\n",
        "\n",
        "### Historical background on TensorFlow 1.x\n",
        "\n",
        "TensorFlow 1.x is primarily a framework for working with **static computational graphs**. Nodes in the computational graph are Tensors which will hold n-dimensional arrays when the graph is run; edges in the graph represent functions that will operate on Tensors when the graph is run to actually perform useful computation.\n",
        "\n",
        "Before Tensorflow 2.0, we had to configure the graph into two phases. There are plenty of tutorials online that explain this two-step process. The process generally looks like the following for TF 1.x:\n",
        "1. **Build a computational graph that describes the computation that you want to perform**. This stage doesn't actually perform any computation; it just builds up a symbolic representation of your computation. This stage will typically define one or more `placeholder` objects that represent inputs to the computational graph.\n",
        "2. **Run the computational graph many times.** Each time the graph is run (e.g. for one gradient descent step) you will specify which parts of the graph you want to compute, and pass a `feed_dict` dictionary that will give concrete values to any `placeholder`s in the graph.\n",
        "\n",
        "### The new paradigm in Tensorflow 2.0\n",
        "Now, with Tensorflow 2.0, we can simply adopt a functional form that is more Pythonic and similar in spirit to PyTorch and direct Numpy operation. Instead of the 2-step paradigm with computation graphs, making it (among other things) easier to debug TF code. You can read more details at https://www.tensorflow.org/guide/eager.\n",
        "\n",
        "The main difference between the TF 1.x and 2.0 approach is that the 2.0 approach doesn't make use of `tf.Session`, `tf.run`, `placeholder`, `feed_dict`. To get more details of what's different between the two version and how to convert between the two, check out the official migration guide: https://www.tensorflow.org/alpha/guide/migration_guide\n",
        "\n",
        "Later, in the rest of this notebook we'll focus on this new, simpler approach."
      ]
    },
    {
      "cell_type": "markdown",
      "metadata": {
        "tags": [
          "pdf-ignore"
        ],
        "id": "T3QGQoKHFqN_",
        "colab_type": "text"
      },
      "source": [
        "### TensorFlow warmup: Flatten Function\n",
        "\n",
        "We can see this in action by defining a simple `flatten` function that will reshape image data for use in a fully-connected network.\n",
        "\n",
        "In TensorFlow, data for convolutional feature maps is typically stored in a Tensor of shape N x H x W x C where:\n",
        "\n",
        "- N is the number of datapoints (minibatch size)\n",
        "- H is the height of the feature map\n",
        "- W is the width of the feature map\n",
        "- C is the number of channels in the feature map\n",
        "\n",
        "This is the right way to represent the data when we are doing something like a 2D convolution, that needs spatial understanding of where the intermediate features are relative to each other. When we use fully connected affine layers to process the image, however, we want each datapoint to be represented by a single vector -- it's no longer useful to segregate the different channels, rows, and columns of the data. So, we use a \"flatten\" operation to collapse the `H x W x C` values per representation into a single long vector. \n",
        "\n",
        "Notice the `tf.reshape` call has the target shape as `(N, -1)`, meaning it will reshape/keep the first dimension to be N, and then infer as necessary what the second dimension is in the output, so we can collapse the remaining dimensions from the input properly.\n",
        "\n",
        "**NOTE**: TensorFlow and PyTorch differ on the default Tensor layout; TensorFlow uses N x H x W x C but PyTorch uses N x C x H x W."
      ]
    },
    {
      "cell_type": "code",
      "metadata": {
        "tags": [
          "pdf-ignore"
        ],
        "id": "lavnhItZFqOA",
        "colab_type": "code",
        "colab": {}
      },
      "source": [
        "def flatten(x):\n",
        "    \"\"\"    \n",
        "    Input:\n",
        "    - TensorFlow Tensor of shape (N, D1, ..., DM)\n",
        "    \n",
        "    Output:\n",
        "    - TensorFlow Tensor of shape (N, D1 * ... * DM)\n",
        "    \"\"\"\n",
        "    N = tf.shape(x)[0]\n",
        "    return tf.reshape(x, (N, -1))"
      ],
      "execution_count": 0,
      "outputs": []
    },
    {
      "cell_type": "code",
      "metadata": {
        "tags": [
          "pdf-ignore-input"
        ],
        "id": "C6rAzsfXFqOF",
        "colab_type": "code",
        "outputId": "ed25b22d-5b95-4af5-f354-d7580fb8dbf5",
        "colab": {
          "base_uri": "https://localhost:8080/",
          "height": 265
        }
      },
      "source": [
        "def test_flatten():\n",
        "    # Construct concrete values of the input data x using numpy\n",
        "    x_np = np.arange(24).reshape((2, 3, 4))\n",
        "    print('x_np:\\n', x_np, '\\n')\n",
        "    # Compute a concrete output value.\n",
        "    x_flat_np = flatten(x_np)\n",
        "    print('x_flat_np:\\n', x_flat_np, '\\n')\n",
        "\n",
        "test_flatten()"
      ],
      "execution_count": 0,
      "outputs": [
        {
          "output_type": "stream",
          "text": [
            "x_np:\n",
            " [[[ 0  1  2  3]\n",
            "  [ 4  5  6  7]\n",
            "  [ 8  9 10 11]]\n",
            "\n",
            " [[12 13 14 15]\n",
            "  [16 17 18 19]\n",
            "  [20 21 22 23]]] \n",
            "\n",
            "x_flat_np:\n",
            " tf.Tensor(\n",
            "[[ 0  1  2  3  4  5  6  7  8  9 10 11]\n",
            " [12 13 14 15 16 17 18 19 20 21 22 23]], shape=(2, 12), dtype=int64) \n",
            "\n"
          ],
          "name": "stdout"
        }
      ]
    },
    {
      "cell_type": "markdown",
      "metadata": {
        "id": "2rLUsny6FqOK",
        "colab_type": "text"
      },
      "source": [
        "### Barebones TensorFlow: Define a Two-Layer Network\n",
        "We will now implement our first neural network with TensorFlow: a fully-connected ReLU network with two hidden layers and no biases on the CIFAR10 dataset. For now we will use only low-level TensorFlow operators to define the network; later we will see how to use the higher-level abstractions provided by `tf.keras` to simplify the process.\n",
        "\n",
        "We will define the forward pass of the network in the function `two_layer_fc`; this will accept TensorFlow Tensors for the inputs and weights of the network, and return a TensorFlow Tensor for the scores. \n",
        "\n",
        "After defining the network architecture in the `two_layer_fc` function, we will test the implementation by checking the shape of the output.\n",
        "\n",
        "**It's important that you read and understand this implementation.**"
      ]
    },
    {
      "cell_type": "code",
      "metadata": {
        "tags": [
          "pdf-ignore"
        ],
        "id": "ffTCuOpqFqOM",
        "colab_type": "code",
        "colab": {}
      },
      "source": [
        "def two_layer_fc(x, params):\n",
        "    \"\"\"\n",
        "    A fully-connected neural network; the architecture is:\n",
        "    fully-connected layer -> ReLU -> fully connected layer.\n",
        "    Note that we only need to define the forward pass here; TensorFlow will take\n",
        "    care of computing the gradients for us.\n",
        "    \n",
        "    The input to the network will be a minibatch of data, of shape\n",
        "    (N, d1, ..., dM) where d1 * ... * dM = D. The hidden layer will have H units,\n",
        "    and the output layer will produce scores for C classes.\n",
        "\n",
        "    Inputs:\n",
        "    - x: A TensorFlow Tensor of shape (N, d1, ..., dM) giving a minibatch of\n",
        "      input data.\n",
        "    - params: A list [w1, w2] of TensorFlow Tensors giving weights for the\n",
        "      network, where w1 has shape (D, H) and w2 has shape (H, C).\n",
        "    \n",
        "    Returns:\n",
        "    - scores: A TensorFlow Tensor of shape (N, C) giving classification scores\n",
        "      for the input data x.\n",
        "    \"\"\"\n",
        "    w1, w2 = params                   # Unpack the parameters\n",
        "    x = flatten(x)                    # Flatten the input; now x has shape (N, D)\n",
        "    h = tf.nn.relu(tf.matmul(x, w1))  # Hidden layer: h has shape (N, H)\n",
        "    scores = tf.matmul(h, w2)         # Compute scores of shape (N, C)\n",
        "    return scores"
      ],
      "execution_count": 0,
      "outputs": []
    },
    {
      "cell_type": "code",
      "metadata": {
        "tags": [
          "pdf-ignore-input"
        ],
        "id": "RzeCU7EhFqOT",
        "colab_type": "code",
        "outputId": "04a0378e-db4d-4199-b9da-77f93103239e",
        "colab": {
          "base_uri": "https://localhost:8080/",
          "height": 34
        }
      },
      "source": [
        "def two_layer_fc_test():\n",
        "    hidden_layer_size = 42\n",
        "\n",
        "    # Scoping our TF operations under a tf.device context manager \n",
        "    # lets us tell TensorFlow where we want these Tensors to be\n",
        "    # multiplied and/or operated on, e.g. on a CPU or a GPU.\n",
        "    with tf.device(device):        \n",
        "        x = tf.zeros((64, 32, 32, 3))\n",
        "        w1 = tf.zeros((32 * 32 * 3, hidden_layer_size))\n",
        "        w2 = tf.zeros((hidden_layer_size, 10))\n",
        "\n",
        "        # Call our two_layer_fc function for the forward pass of the network.\n",
        "        scores = two_layer_fc(x, [w1, w2])\n",
        "\n",
        "    print(scores.shape)\n",
        "\n",
        "two_layer_fc_test()"
      ],
      "execution_count": 0,
      "outputs": [
        {
          "output_type": "stream",
          "text": [
            "(64, 10)\n"
          ],
          "name": "stdout"
        }
      ]
    },
    {
      "cell_type": "markdown",
      "metadata": {
        "id": "KP-Wut0xFqOa",
        "colab_type": "text"
      },
      "source": [
        "### Barebones TensorFlow: Three-Layer ConvNet\n",
        "Here you will complete the implementation of the function `three_layer_convnet` which will perform the forward pass of a three-layer convolutional network. The network should have the following architecture:\n",
        "\n",
        "1. A convolutional layer (with bias) with `channel_1` filters, each with shape `KW1 x KH1`, and zero-padding of two\n",
        "2. ReLU nonlinearity\n",
        "3. A convolutional layer (with bias) with `channel_2` filters, each with shape `KW2 x KH2`, and zero-padding of one\n",
        "4. ReLU nonlinearity\n",
        "5. Fully-connected layer with bias, producing scores for `C` classes.\n",
        "\n",
        "**HINT**: For convolutions: https://www.tensorflow.org/versions/r2.0/api_docs/python/tf/nn/conv2d; be careful with padding!\n",
        "\n",
        "**HINT**: For biases: https://www.tensorflow.org/performance/xla/broadcasting"
      ]
    },
    {
      "cell_type": "code",
      "metadata": {
        "id": "ZkTpCqUzFqOc",
        "colab_type": "code",
        "colab": {}
      },
      "source": [
        "def three_layer_convnet(x, params):\n",
        "    \"\"\"\n",
        "    A three-layer convolutional network with the architecture described above.\n",
        "    \n",
        "    Inputs:\n",
        "    - x: A TensorFlow Tensor of shape (N, H, W, 3) giving a minibatch of images\n",
        "    - params: A list of TensorFlow Tensors giving the weights and biases for the\n",
        "      network; should contain the following:\n",
        "      - conv_w1: TensorFlow Tensor of shape (KH1, KW1, 3, channel_1) giving\n",
        "        weights for the first convolutional layer.\n",
        "      - conv_b1: TensorFlow Tensor of shape (channel_1,) giving biases for the\n",
        "        first convolutional layer.\n",
        "      - conv_w2: TensorFlow Tensor of shape (KH2, KW2, channel_1, channel_2)\n",
        "        giving weights for the second convolutional layer\n",
        "      - conv_b2: TensorFlow Tensor of shape (channel_2,) giving biases for the\n",
        "        second convolutional layer.\n",
        "      - fc_w: TensorFlow Tensor giving weights for the fully-connected layer.\n",
        "        Can you figure out what the shape should be?\n",
        "      - fc_b: TensorFlow Tensor giving biases for the fully-connected layer.\n",
        "        Can you figure out what the shape should be?\n",
        "    \"\"\"\n",
        "    conv_w1, conv_b1, conv_w2, conv_b2, fc_w, fc_b = params\n",
        "    scores = None\n",
        "    ############################################################################\n",
        "    # TODO: Implement the forward pass for the three-layer ConvNet.            #\n",
        "    ############################################################################\n",
        "    # *****START OF YOUR CODE (DO NOT DELETE/MODIFY THIS LINE)*****\n",
        "\n",
        "    conv1 = tf.nn.relu(tf.math.add(tf.nn.conv2d(x, filters=conv_w1, strides=1, padding='SAME', data_format='NHWC'), conv_b1))\n",
        "    conv2 = tf.nn.relu(tf.math.add(tf.nn.conv2d(conv1, filters=conv_w2, strides=1, padding='SAME', data_format='NHWC'), conv_b2))\n",
        "    scores = tf.nn.relu(tf.add(tf.matmul(flatten(conv2), fc_w), fc_b))\n",
        "    \n",
        "    # *****END OF YOUR CODE (DO NOT DELETE/MODIFY THIS LINE)*****\n",
        "    ############################################################################\n",
        "    #                              END OF YOUR CODE                            #\n",
        "    ############################################################################\n",
        "    return scores"
      ],
      "execution_count": 0,
      "outputs": []
    },
    {
      "cell_type": "markdown",
      "metadata": {
        "id": "eIDvE3YuFqOj",
        "colab_type": "text"
      },
      "source": [
        "After defing the forward pass of the three-layer ConvNet above, run the following cell to test your implementation. Like the two-layer network, we run the graph on a batch of zeros just to make sure the function doesn't crash, and produces outputs of the correct shape.\n",
        "\n",
        "When you run this function, `scores_np` should have shape `(64, 10)`."
      ]
    },
    {
      "cell_type": "code",
      "metadata": {
        "jupyter": {
          "outputs_hidden": true
        },
        "tags": [
          "pdf-ignore-input"
        ],
        "id": "ZxOr1tUTFqOl",
        "colab_type": "code",
        "outputId": "077e5181-89fe-4933-fe08-a4deb2b7ef05",
        "colab": {
          "base_uri": "https://localhost:8080/",
          "height": 34
        }
      },
      "source": [
        "def three_layer_convnet_test():\n",
        "    \n",
        "    with tf.device(device):\n",
        "        x = tf.zeros((64, 32, 32, 3))\n",
        "        conv_w1 = tf.zeros((5, 5, 3, 6))\n",
        "        conv_b1 = tf.zeros((6,))\n",
        "        conv_w2 = tf.zeros((3, 3, 6, 9))\n",
        "        conv_b2 = tf.zeros((9,))\n",
        "        fc_w = tf.zeros((32 * 32 * 9, 10))\n",
        "        fc_b = tf.zeros((10,))\n",
        "        params = [conv_w1, conv_b1, conv_w2, conv_b2, fc_w, fc_b]\n",
        "        scores = three_layer_convnet(x, params)\n",
        "\n",
        "    # Inputs to convolutional layers are 4-dimensional arrays with shape\n",
        "    # [batch_size, height, width, channels]\n",
        "    print('scores_np has shape: ', scores.shape)\n",
        "\n",
        "three_layer_convnet_test()"
      ],
      "execution_count": 0,
      "outputs": [
        {
          "output_type": "stream",
          "text": [
            "scores_np has shape:  (64, 10)\n"
          ],
          "name": "stdout"
        }
      ]
    },
    {
      "cell_type": "markdown",
      "metadata": {
        "id": "66y45cYbFqOr",
        "colab_type": "text"
      },
      "source": [
        "### Barebones TensorFlow: Training Step\n",
        "\n",
        "We now define the `training_step` function performs a single training step. This will take three basic steps:\n",
        "\n",
        "1. Compute the loss\n",
        "2. Compute the gradient of the loss with respect to all network weights\n",
        "3. Make a weight update step using (stochastic) gradient descent.\n",
        "\n",
        "\n",
        "We need to use a few new TensorFlow functions to do all of this:\n",
        "- For computing the cross-entropy loss we'll use `tf.nn.sparse_softmax_cross_entropy_with_logits`: https://www.tensorflow.org/versions/r2.0/api_docs/python/tf/nn/sparse_softmax_cross_entropy_with_logits\n",
        "\n",
        "- For averaging the loss across a minibatch of data we'll use `tf.reduce_mean`:\n",
        "https://www.tensorflow.org/versions/r2.0/api_docs/python/tf/reduce_mean\n",
        "\n",
        "- For computing gradients of the loss with respect to the weights we'll use `tf.GradientTape` (useful for Eager execution):  https://www.tensorflow.org/versions/r2.0/api_docs/python/tf/GradientTape\n",
        "\n",
        "- We'll mutate the weight values stored in a TensorFlow Tensor using `tf.assign_sub` (\"sub\" is for subtraction): https://www.tensorflow.org/api_docs/python/tf/assign_sub \n"
      ]
    },
    {
      "cell_type": "code",
      "metadata": {
        "tags": [
          "pdf-ignore"
        ],
        "id": "nk9IM1skFqOt",
        "colab_type": "code",
        "colab": {}
      },
      "source": [
        "def training_step(model_fn, x, y, params, learning_rate):\n",
        "    with tf.GradientTape() as tape:\n",
        "        scores = model_fn(x, params) # Forward pass of the model\n",
        "        loss = tf.nn.sparse_softmax_cross_entropy_with_logits(labels=y, logits=scores)\n",
        "        total_loss = tf.reduce_mean(loss)\n",
        "        grad_params = tape.gradient(total_loss, params)\n",
        "\n",
        "        # Make a vanilla gradient descent step on all of the model parameters\n",
        "        # Manually update the weights using assign_sub()\n",
        "        for w, grad_w in zip(params, grad_params):\n",
        "            w.assign_sub(learning_rate * grad_w)\n",
        "                        \n",
        "        return total_loss"
      ],
      "execution_count": 0,
      "outputs": []
    },
    {
      "cell_type": "code",
      "metadata": {
        "tags": [
          "pdf-ignore"
        ],
        "id": "vs-ZsIciFqO0",
        "colab_type": "code",
        "colab": {}
      },
      "source": [
        "def train_part2(model_fn, init_fn, learning_rate, epochs):\n",
        "    \"\"\"\n",
        "    Train a model on CIFAR-10.\n",
        "    \n",
        "    Inputs:\n",
        "    - model_fn: A Python function that performs the forward pass of the model\n",
        "      using TensorFlow; it should have the following signature:\n",
        "      scores = model_fn(x, params) where x is a TensorFlow Tensor giving a\n",
        "      minibatch of image data, params is a list of TensorFlow Tensors holding\n",
        "      the model weights, and scores is a TensorFlow Tensor of shape (N, C)\n",
        "      giving scores for all elements of x.\n",
        "    - init_fn: A Python function that initializes the parameters of the model.\n",
        "      It should have the signature params = init_fn() where params is a list\n",
        "      of TensorFlow Tensors holding the (randomly initialized) weights of the\n",
        "      model.\n",
        "    - learning_rate: Python float giving the learning rate to use for SGD.\n",
        "    \"\"\"\n",
        "    \n",
        "    \n",
        "    params = init_fn()  # Initialize the model parameters            \n",
        "    for e in range(epochs):    \n",
        "        for t, (x_np, y_np) in enumerate(train_dset):\n",
        "            # Run the graph on a batch of training data.\n",
        "            loss = training_step(model_fn, x_np, y_np, params, learning_rate)\n",
        "\n",
        "            # Periodically print the loss and check accuracy on the val set.\n",
        "            if t % print_every == 0:\n",
        "                print('Epoch %d, iteration %d, loss = %.4f' % (e, t, loss))\n",
        "                print('Validation:')\n",
        "                check_accuracy(val_dset, model_fn, params)\n",
        "    return params\n",
        "                "
      ],
      "execution_count": 0,
      "outputs": []
    },
    {
      "cell_type": "code",
      "metadata": {
        "tags": [
          "pdf-ignore"
        ],
        "id": "3mVzouHWFqO6",
        "colab_type": "code",
        "colab": {}
      },
      "source": [
        "def check_accuracy(dset, model_fn, params):\n",
        "    \"\"\"\n",
        "    Check accuracy on a classification model, e.g. for validation.\n",
        "    \n",
        "    Inputs:\n",
        "    - dset: A Dataset object against which to check accuracy\n",
        "    - x: A TensorFlow placeholder Tensor where input images should be fed\n",
        "    - model_fn: the Model we will be calling to make predictions on x\n",
        "    - params: parameters for the model_fn to work with\n",
        "      \n",
        "    Returns: Nothing, but prints the accuracy of the model\n",
        "    \"\"\"\n",
        "    num_correct, num_samples = 0, 0\n",
        "    for x_batch, y_batch in dset:\n",
        "        scores_np = model_fn(x_batch, params).numpy()\n",
        "        y_pred = scores_np.argmax(axis=1)\n",
        "        num_samples += x_batch.shape[0]\n",
        "        num_correct += (y_pred == y_batch).sum()\n",
        "    acc = float(num_correct) / num_samples\n",
        "    print('     Got %d / %d correct (%.2f%%)' % (num_correct, num_samples, 100 * acc))"
      ],
      "execution_count": 0,
      "outputs": []
    },
    {
      "cell_type": "markdown",
      "metadata": {
        "id": "4-XWSh7kFqO_",
        "colab_type": "text"
      },
      "source": [
        "### Barebones TensorFlow: Initialization\n",
        "We'll use the following utility method to initialize the weight matrices for our models using Kaiming's normalization method.\n",
        "\n",
        "[1] He et al, *Delving Deep into Rectifiers: Surpassing Human-Level Performance on ImageNet Classification\n",
        "*, ICCV 2015, https://arxiv.org/abs/1502.01852"
      ]
    },
    {
      "cell_type": "code",
      "metadata": {
        "id": "U_sizQxdFqPB",
        "colab_type": "code",
        "colab": {}
      },
      "source": [
        "def create_matrix_with_kaiming_normal(shape):\n",
        "    if len(shape) == 2:\n",
        "        fan_in, fan_out = shape[0], shape[1]\n",
        "    elif len(shape) == 4:\n",
        "        fan_in, fan_out = np.prod(shape[:3]), shape[3]\n",
        "    return tf.keras.backend.random_normal(shape) * np.sqrt(2.0 / fan_in)"
      ],
      "execution_count": 0,
      "outputs": []
    },
    {
      "cell_type": "markdown",
      "metadata": {
        "id": "h-jMfnX1FqPI",
        "colab_type": "text"
      },
      "source": [
        "### Barebones TensorFlow: Train a Two-Layer Network\n",
        "We are finally ready to use all of the pieces defined above to train a two-layer fully-connected network on CIFAR-10.\n",
        "\n",
        "We just need to define a function to initialize the weights of the model, and call `train_part2`.\n",
        "\n",
        "Defining the weights of the network introduces another important piece of TensorFlow API: `tf.Variable`. A TensorFlow Variable is a Tensor whose value is stored in the graph and persists across runs of the computational graph; however unlike constants defined with `tf.zeros` or `tf.random_normal`, the values of a Variable can be mutated as the graph runs; these mutations will persist across graph runs. Learnable parameters of the network are usually stored in Variables.\n",
        "\n",
        "You don't need to tune any hyperparameters, but you should achieve validation accuracies above 40% after one epoch of training."
      ]
    },
    {
      "cell_type": "code",
      "metadata": {
        "jupyter": {
          "outputs_hidden": true
        },
        "id": "xtXdPyDOFqPJ",
        "colab_type": "code",
        "outputId": "30df20a8-d74d-4e1f-932b-b715b966e865",
        "colab": {
          "base_uri": "https://localhost:8080/",
          "height": 478
        }
      },
      "source": [
        "def two_layer_fc_init():\n",
        "    \"\"\"\n",
        "    Initialize the weights of a two-layer network, for use with the\n",
        "    two_layer_network function defined above. \n",
        "    You can use the `create_matrix_with_kaiming_normal` helper!\n",
        "    \n",
        "    Inputs: None\n",
        "    \n",
        "    Returns: A list of:\n",
        "    - w1: TensorFlow tf.Variable giving the weights for the first layer\n",
        "    - w2: TensorFlow tf.Variable giving the weights for the second layer\n",
        "    \"\"\"\n",
        "    hidden_layer_size = 4000\n",
        "    w1 = tf.Variable(create_matrix_with_kaiming_normal((3 * 32 * 32, 4000)))\n",
        "    w2 = tf.Variable(create_matrix_with_kaiming_normal((4000, 10)))\n",
        "    return [w1, w2]\n",
        "\n",
        "learning_rate = 1e-2\n",
        "print('Train')\n",
        "trained_params = train_part2(two_layer_fc, two_layer_fc_init, learning_rate,1)\n",
        "print('Done!')"
      ],
      "execution_count": 0,
      "outputs": [
        {
          "output_type": "stream",
          "text": [
            "Train\n",
            "Epoch 0, iteration 0, loss = 2.9603\n",
            "Validation:\n",
            "     Got 117 / 1000 correct (11.70%)\n",
            "Epoch 0, iteration 100, loss = 1.9708\n",
            "Validation:\n",
            "     Got 378 / 1000 correct (37.80%)\n",
            "Epoch 0, iteration 200, loss = 1.4370\n",
            "Validation:\n",
            "     Got 378 / 1000 correct (37.80%)\n",
            "Epoch 0, iteration 300, loss = 1.9012\n",
            "Validation:\n",
            "     Got 345 / 1000 correct (34.50%)\n",
            "Epoch 0, iteration 400, loss = 1.7631\n",
            "Validation:\n",
            "     Got 426 / 1000 correct (42.60%)\n",
            "Epoch 0, iteration 500, loss = 1.8001\n",
            "Validation:\n",
            "     Got 427 / 1000 correct (42.70%)\n",
            "Epoch 0, iteration 600, loss = 1.8376\n",
            "Validation:\n",
            "     Got 419 / 1000 correct (41.90%)\n",
            "Epoch 0, iteration 700, loss = 1.8989\n",
            "Validation:\n",
            "     Got 447 / 1000 correct (44.70%)\n",
            "Done!\n"
          ],
          "name": "stdout"
        }
      ]
    },
    {
      "cell_type": "markdown",
      "metadata": {
        "id": "ApHumY5UFqPP",
        "colab_type": "text"
      },
      "source": [
        "### Test Set - DO THIS ONLY ONCE\n",
        "Now that we've gotten a result that we're happy with, we test our final model on the test set. This would be the score we would achieve on a competition. Think about how this compares to your validation set accuracy."
      ]
    },
    {
      "cell_type": "code",
      "metadata": {
        "id": "Nhc5nbGJFqPR",
        "colab_type": "code",
        "outputId": "77f8c859-19fc-4666-b456-aca3c132947f",
        "colab": {
          "base_uri": "https://localhost:8080/",
          "height": 52
        }
      },
      "source": [
        "print('Test')\n",
        "check_accuracy(test_dset, two_layer_fc, trained_params)"
      ],
      "execution_count": 0,
      "outputs": [
        {
          "output_type": "stream",
          "text": [
            "Test\n",
            "     Got 4406 / 10000 correct (44.06%)\n"
          ],
          "name": "stdout"
        }
      ]
    },
    {
      "cell_type": "markdown",
      "metadata": {
        "id": "OEkLwFhbFqPW",
        "colab_type": "text"
      },
      "source": [
        "### Barebones TensorFlow: Train a three-layer ConvNet\n",
        "We will now use TensorFlow to train a three-layer ConvNet on CIFAR-10.\n",
        "\n",
        "You need to implement the `three_layer_convnet_init` function. Recall that the architecture of the network is:\n",
        "\n",
        "1. Convolutional layer (with bias) with 32 5x5 filters, with zero-padding 2\n",
        "2. ReLU\n",
        "3. Convolutional layer (with bias) with 16 3x3 filters, with zero-padding 1\n",
        "4. ReLU\n",
        "5. Fully-connected layer (with bias) to compute scores for 10 classes\n",
        "\n",
        "You don't need to do any hyperparameter tuning, but you should see validation accuracies above 43% after one epoch of training."
      ]
    },
    {
      "cell_type": "code",
      "metadata": {
        "scrolled": true,
        "id": "P6T4Le1GFqPY",
        "colab_type": "code",
        "outputId": "f1264aa7-e19c-4c83-df06-af4486a2f1f4",
        "colab": {
          "base_uri": "https://localhost:8080/",
          "height": 1000
        }
      },
      "source": [
        "def three_layer_convnet_init():\n",
        "    \"\"\"\n",
        "    Initialize the weights of a Three-Layer ConvNet, for use with the\n",
        "    three_layer_convnet function defined above.\n",
        "    You can use the `create_matrix_with_kaiming_normal` helper!\n",
        "    \n",
        "    Inputs: None\n",
        "    \n",
        "    Returns a list containing:\n",
        "    - conv_w1: TensorFlow tf.Variable giving weights for the first conv layer\n",
        "    - conv_b1: TensorFlow tf.Variable giving biases for the first conv layer\n",
        "    - conv_w2: TensorFlow tf.Variable giving weights for the second conv layer\n",
        "    - conv_b2: TensorFlow tf.Variable giving biases for the second conv layer\n",
        "    - fc_w: TensorFlow tf.Variable giving weights for the fully-connected layer\n",
        "    - fc_b: TensorFlow tf.Variable giving biases for the fully-connected layer\n",
        "    \"\"\"\n",
        "    params = None\n",
        "    ############################################################################\n",
        "    # TODO: Initialize the parameters of the three-layer network.              #\n",
        "    ############################################################################\n",
        "    # *****START OF YOUR CODE (DO NOT DELETE/MODIFY THIS LINE)*****\n",
        "\n",
        "    with tf.device(device):\n",
        "        conv_w1 = tf.Variable(create_matrix_with_kaiming_normal((5, 5, 3, 32)))\n",
        "        conv_b1 = tf.Variable(tf.zeros((32,)))\n",
        "        conv_w2 = tf.Variable(create_matrix_with_kaiming_normal((3, 3, 32, 16)))\n",
        "        conv_b2 = tf.Variable(tf.zeros((16,)))\n",
        "        fc_w = tf.Variable(create_matrix_with_kaiming_normal((32 * 32 * 16, 10)))\n",
        "        fc_b = tf.Variable(tf.zeros((10,)))\n",
        "        params = [conv_w1, conv_b1, conv_w2, conv_b2, fc_w, fc_b]\n",
        "\n",
        "    # *****END OF YOUR CODE (DO NOT DELETE/MODIFY THIS LINE)*****\n",
        "    ############################################################################\n",
        "    #                             END OF YOUR CODE                             #\n",
        "    ############################################################################\n",
        "    return params\n",
        "\n",
        "learning_rate = 3e-3\n",
        "train_part2(three_layer_convnet, three_layer_convnet_init, learning_rate, 1)"
      ],
      "execution_count": 0,
      "outputs": [
        {
          "output_type": "stream",
          "text": [
            "Epoch 0, iteration 0, loss = 2.5319\n",
            "Validation:\n",
            "     Got 106 / 1000 correct (10.60%)\n",
            "Epoch 0, iteration 100, loss = 2.3037\n",
            "Validation:\n",
            "     Got 93 / 1000 correct (9.30%)\n",
            "Epoch 0, iteration 200, loss = 2.2867\n",
            "Validation:\n",
            "     Got 93 / 1000 correct (9.30%)\n",
            "Epoch 0, iteration 300, loss = 2.2707\n",
            "Validation:\n",
            "     Got 101 / 1000 correct (10.10%)\n",
            "Epoch 0, iteration 400, loss = 2.3026\n",
            "Validation:\n",
            "     Got 92 / 1000 correct (9.20%)\n",
            "Epoch 0, iteration 500, loss = 2.2951\n",
            "Validation:\n",
            "     Got 91 / 1000 correct (9.10%)\n",
            "Epoch 0, iteration 600, loss = 2.3032\n",
            "Validation:\n",
            "     Got 101 / 1000 correct (10.10%)\n",
            "Epoch 0, iteration 700, loss = 2.3024\n",
            "Validation:\n",
            "     Got 103 / 1000 correct (10.30%)\n"
          ],
          "name": "stdout"
        },
        {
          "output_type": "execute_result",
          "data": {
            "text/plain": [
              "[<tf.Variable 'Variable:0' shape=(5, 5, 3, 32) dtype=float32, numpy=\n",
              " array([[[[-2.79977620e-01,  9.54220667e-02,  1.76709160e-01, ...,\n",
              "           -7.08539858e-02,  1.67373165e-01,  6.09648973e-02],\n",
              "          [-9.50049385e-02,  3.23553458e-02,  2.47304037e-01, ...,\n",
              "           -1.55260935e-01, -9.89270508e-02,  8.23784992e-02],\n",
              "          [-1.89293608e-01, -1.57208443e-01, -1.70262426e-01, ...,\n",
              "           -1.66882172e-01,  3.57286930e-01, -9.63985622e-02]],\n",
              " \n",
              "         [[ 1.10311233e-01,  3.65188867e-02, -1.93870798e-01, ...,\n",
              "           -2.25518405e-01,  8.89974907e-02, -1.53876051e-01],\n",
              "          [ 1.92718022e-02, -5.66619188e-02, -4.74402495e-02, ...,\n",
              "           -7.91650936e-02,  3.32112983e-02,  8.30468163e-02],\n",
              "          [ 3.06117274e-02,  1.90594390e-01, -1.54028714e-01, ...,\n",
              "           -9.08824950e-02,  8.89404044e-02,  2.55924046e-01]],\n",
              " \n",
              "         [[-2.74245530e-01,  1.50181547e-01,  9.85306054e-02, ...,\n",
              "           -6.19942285e-02,  9.79334712e-02,  2.92127520e-01],\n",
              "          [ 5.75295836e-02, -7.80740082e-02, -2.08806500e-01, ...,\n",
              "            8.47780406e-02,  8.89103767e-03,  6.75312802e-03],\n",
              "          [-2.11246707e-03, -3.51734847e-01, -2.15365157e-01, ...,\n",
              "           -3.41624856e-01,  5.80003448e-02, -1.24324471e-01]],\n",
              " \n",
              "         [[ 2.13722125e-01, -9.04061422e-02,  1.83118835e-01, ...,\n",
              "            1.70302719e-01,  2.35133737e-01, -5.19169774e-03],\n",
              "          [ 1.07716434e-01,  1.95881024e-01, -3.91684426e-03, ...,\n",
              "            1.26909837e-01, -5.03151603e-02,  7.38349333e-02],\n",
              "          [-1.24617733e-01, -2.82345507e-02, -6.23886250e-02, ...,\n",
              "           -5.37665188e-02,  4.34159972e-02,  2.01779872e-01]],\n",
              " \n",
              "         [[ 1.54881507e-01,  7.29307830e-02, -3.36377025e-02, ...,\n",
              "            1.22866660e-01,  4.18330044e-01,  3.33231576e-02],\n",
              "          [-4.04371023e-01, -1.12176746e-01,  7.76917040e-02, ...,\n",
              "           -2.54473209e-01, -1.86812192e-01, -9.94204581e-02],\n",
              "          [-2.84520477e-01, -3.78985219e-02,  1.31485360e-02, ...,\n",
              "            1.33354470e-01, -1.08147152e-01, -2.18457263e-02]]],\n",
              " \n",
              " \n",
              "        [[[ 1.36311740e-01,  1.81308299e-01,  6.61170110e-02, ...,\n",
              "            6.65925909e-03, -1.97712958e-01, -2.48708457e-01],\n",
              "          [ 1.84974656e-01, -1.32678282e-02,  6.27854168e-02, ...,\n",
              "            2.92011611e-02,  9.68267545e-02,  3.60231195e-03],\n",
              "          [ 1.91156223e-01, -5.41448593e-02, -1.68639328e-02, ...,\n",
              "           -2.49305695e-01, -3.94821391e-02, -1.24248862e-02]],\n",
              " \n",
              "         [[-6.53884932e-02,  2.46731509e-02,  5.44612221e-02, ...,\n",
              "           -3.47475648e-01, -3.02502751e-01,  1.42686814e-01],\n",
              "          [-7.85448998e-02, -8.95269811e-02, -7.13968128e-02, ...,\n",
              "            2.51814667e-02,  9.71781537e-02, -3.96358036e-02],\n",
              "          [ 4.70896922e-02,  1.07007042e-01,  1.58716589e-01, ...,\n",
              "           -3.11723053e-02, -2.06004709e-01,  1.21306919e-01]],\n",
              " \n",
              "         [[-1.08188257e-01,  8.00991654e-02,  4.86553237e-02, ...,\n",
              "           -1.10307388e-01, -6.67051822e-02, -8.84170160e-02],\n",
              "          [ 5.39751053e-02,  2.61541486e-01,  1.50379851e-01, ...,\n",
              "            9.63249207e-02,  1.48108006e-01, -1.74970999e-01],\n",
              "          [-1.28391489e-01, -3.87215167e-01, -1.55687287e-01, ...,\n",
              "            4.11856920e-02, -7.83867091e-02, -5.82625419e-02]],\n",
              " \n",
              "         [[ 6.50002360e-02,  5.67659736e-02,  2.45219350e-01, ...,\n",
              "           -9.05575454e-02,  1.10998541e-01,  8.78426582e-02],\n",
              "          [-1.38941765e-01,  5.36272228e-02,  4.56873216e-02, ...,\n",
              "            3.72172236e-01,  1.42533168e-01,  4.11328375e-02],\n",
              "          [ 2.22013876e-01,  4.49408330e-02, -1.07275426e-01, ...,\n",
              "            2.07032278e-01,  1.95393384e-01,  2.63332248e-01]],\n",
              " \n",
              "         [[ 8.49167928e-02, -5.77716678e-02, -1.88046142e-01, ...,\n",
              "            8.52332935e-02,  1.60888985e-01, -3.55085880e-01],\n",
              "          [ 4.00220126e-01,  2.92097718e-01, -5.05176820e-02, ...,\n",
              "           -5.68775497e-02, -8.11045710e-03,  1.76077057e-02],\n",
              "          [ 2.23183170e-01,  9.71194506e-02,  1.98106527e-01, ...,\n",
              "            7.33709931e-02, -1.17986888e-01, -1.07585095e-01]]],\n",
              " \n",
              " \n",
              "        [[[-2.78329521e-01,  6.12569191e-02,  6.97923824e-02, ...,\n",
              "           -1.09417150e-02, -2.58128613e-01, -3.65261212e-02],\n",
              "          [ 2.99253967e-03, -1.51639014e-01, -3.51443738e-01, ...,\n",
              "           -4.67399023e-02, -6.20626509e-02, -8.09733719e-02],\n",
              "          [-6.60587624e-02, -3.12025547e-01, -1.29037008e-01, ...,\n",
              "            1.60605267e-01, -7.48670027e-02, -5.72361052e-02]],\n",
              " \n",
              "         [[-1.69229805e-01,  1.48275360e-01, -7.16480836e-02, ...,\n",
              "           -6.53229654e-02, -1.87670112e-01,  1.09946050e-01],\n",
              "          [-1.25182599e-01, -9.91220996e-02,  1.33987054e-01, ...,\n",
              "            2.31612623e-01,  1.95935503e-01, -3.17280352e-01],\n",
              "          [ 5.18790744e-02,  7.78013542e-02, -6.07092381e-02, ...,\n",
              "            4.71973456e-02, -7.32554197e-02, -1.87401101e-01]],\n",
              " \n",
              "         [[-5.50870784e-02,  8.89067650e-02,  4.46646102e-03, ...,\n",
              "            2.40385190e-01,  4.42244679e-01, -2.16935109e-03],\n",
              "          [ 1.83083236e-01,  1.74438417e-01,  1.75843924e-01, ...,\n",
              "           -1.02269374e-01, -7.51073062e-02, -1.65633354e-02],\n",
              "          [ 9.07995328e-02, -2.45954320e-01,  3.68908606e-02, ...,\n",
              "           -7.91122206e-03, -1.98897198e-01, -2.18301982e-01]],\n",
              " \n",
              "         [[-5.61165474e-02,  1.62962794e-01, -2.03765586e-01, ...,\n",
              "           -2.11137250e-01,  1.77857801e-01,  2.21416857e-02],\n",
              "          [ 7.30635300e-02, -6.10056557e-02,  2.55153954e-01, ...,\n",
              "           -3.54216509e-02, -1.70954615e-01, -3.26844752e-01],\n",
              "          [ 1.77437793e-02, -2.27352738e-01,  5.95905669e-02, ...,\n",
              "            1.89599767e-01, -2.06334934e-01, -1.81981385e-01]],\n",
              " \n",
              "         [[ 1.56757742e-01,  4.95041646e-02, -1.43085122e-01, ...,\n",
              "            7.13218898e-02, -2.57726982e-02,  2.70064831e-01],\n",
              "          [-3.06820184e-01, -2.02748492e-01,  5.35571128e-02, ...,\n",
              "            9.05684680e-02,  5.66492938e-02, -3.87171805e-02],\n",
              "          [-1.21969931e-01, -5.09382449e-02, -2.67547704e-02, ...,\n",
              "           -1.85156912e-01,  5.56888431e-02, -9.51541401e-03]]],\n",
              " \n",
              " \n",
              "        [[[ 3.45425867e-02, -1.77862626e-02, -1.07961677e-01, ...,\n",
              "           -5.32380119e-02, -8.41371194e-02, -3.26348156e-01],\n",
              "          [ 3.10058236e-01, -4.54595350e-02, -5.04435450e-02, ...,\n",
              "           -4.81977388e-02,  3.52167308e-01, -2.54315436e-02],\n",
              "          [ 7.29471818e-02, -3.11540544e-01, -4.70603518e-02, ...,\n",
              "            2.59017590e-02,  3.46016914e-01,  2.89386481e-01]],\n",
              " \n",
              "         [[-1.59178525e-01,  1.92099854e-01,  2.11368710e-01, ...,\n",
              "           -1.98580220e-01,  2.61140049e-01,  4.04603928e-01],\n",
              "          [ 2.16640785e-01, -2.64426529e-01,  1.96235895e-01, ...,\n",
              "            1.28807232e-01, -1.47381932e-01,  9.55066904e-02],\n",
              "          [ 3.76136303e-02,  1.92463413e-01, -1.02395443e-02, ...,\n",
              "           -2.28492767e-01, -5.12959482e-03,  3.60505104e-01]],\n",
              " \n",
              "         [[-1.66452616e-01,  1.21956222e-01,  3.73327881e-02, ...,\n",
              "           -1.64766163e-01, -2.55839843e-02, -1.71369761e-02],\n",
              "          [ 1.08503334e-01,  3.84672545e-02, -6.05708584e-02, ...,\n",
              "           -3.04668278e-01,  2.71186531e-01, -3.86162959e-02],\n",
              "          [-2.20130663e-02,  3.71156260e-02,  1.61908522e-01, ...,\n",
              "           -5.20022027e-02, -4.16072309e-01, -1.41586989e-01]],\n",
              " \n",
              "         [[ 9.06538591e-02, -2.18515605e-01,  2.24672072e-02, ...,\n",
              "            5.49813174e-03, -1.07340261e-01, -2.11053193e-02],\n",
              "          [-1.58419058e-01,  1.29725918e-01,  3.98622714e-02, ...,\n",
              "           -1.35059774e-01, -3.59927602e-02,  5.07220924e-02],\n",
              "          [ 1.20611943e-01,  3.14524829e-01,  7.46487603e-02, ...,\n",
              "           -3.35303508e-02, -2.32969537e-01,  1.33301571e-01]],\n",
              " \n",
              "         [[ 1.84694514e-01, -6.62016496e-02,  1.28673375e-01, ...,\n",
              "            4.15228158e-02,  3.47237200e-01,  2.84214079e-01],\n",
              "          [ 1.14337660e-01, -5.77418841e-02,  1.17363095e-01, ...,\n",
              "           -1.79683834e-01, -1.19049549e-01, -8.64583179e-02],\n",
              "          [-3.63237485e-02,  7.66951889e-02,  1.85712084e-01, ...,\n",
              "           -4.57959250e-02, -9.90591869e-02,  1.12783536e-01]]],\n",
              " \n",
              " \n",
              "        [[[-1.51997820e-01, -1.67952508e-01,  2.22637281e-01, ...,\n",
              "            1.42873257e-01,  9.12521929e-02,  1.06130801e-01],\n",
              "          [ 7.12024979e-03,  1.29611120e-01,  8.97804648e-02, ...,\n",
              "           -1.45080820e-01,  8.42766687e-02, -1.34646341e-01],\n",
              "          [-7.34940171e-02, -7.05510937e-03, -2.86162138e-01, ...,\n",
              "            2.79928762e-02,  6.61655739e-02, -9.51782688e-02]],\n",
              " \n",
              "         [[-1.62716433e-01, -1.60517752e-01,  1.53904617e-01, ...,\n",
              "           -1.78274035e-01, -2.24191491e-02, -2.79109329e-01],\n",
              "          [-1.39811262e-01, -8.15421939e-02, -3.80488373e-02, ...,\n",
              "           -6.76127821e-02,  2.44300380e-01, -2.87082106e-01],\n",
              "          [ 9.34641138e-02,  9.85376462e-02, -4.63811904e-02, ...,\n",
              "            2.28324682e-01, -1.45407841e-01, -5.77798374e-02]],\n",
              " \n",
              "         [[-2.89607816e-03,  1.31504864e-01,  4.12575901e-02, ...,\n",
              "            7.40704546e-03, -2.29034439e-01, -1.22137330e-01],\n",
              "          [ 4.36193049e-02, -2.18919456e-01,  7.21542612e-02, ...,\n",
              "            1.73189148e-01, -1.40637634e-02,  2.77369209e-02],\n",
              "          [ 8.40994269e-02, -1.33704141e-01,  6.65757880e-02, ...,\n",
              "           -6.04002066e-02,  1.58849861e-02, -2.08748087e-01]],\n",
              " \n",
              "         [[ 2.16389373e-02, -1.28760161e-02, -8.96265507e-02, ...,\n",
              "           -1.59788541e-02,  1.30974889e-01,  1.54224426e-01],\n",
              "          [-1.39613688e-01, -5.35423346e-02,  1.68969437e-01, ...,\n",
              "            7.34423921e-02,  1.11280754e-02, -2.15545326e-01],\n",
              "          [ 7.57343620e-02,  4.72791374e-01,  3.41722786e-01, ...,\n",
              "           -4.41491082e-02, -2.59374827e-02,  3.17751646e-01]],\n",
              " \n",
              "         [[-2.13063270e-01,  1.74077347e-01,  5.92351630e-02, ...,\n",
              "           -5.76588400e-02, -1.11830674e-01,  1.33957654e-01],\n",
              "          [ 9.08532238e-04, -7.82343373e-02,  1.65887147e-01, ...,\n",
              "           -2.13670224e-01, -2.11204395e-01, -3.81514840e-02],\n",
              "          [ 2.21520275e-01, -6.71582595e-02, -4.57618036e-04, ...,\n",
              "           -1.67877033e-01, -4.87677827e-02,  1.86875731e-01]]]],\n",
              "       dtype=float32)>,\n",
              " <tf.Variable 'Variable:0' shape=(32,) dtype=float32, numpy=\n",
              " array([-8.1638223e-05,  4.4732584e-05, -4.5953525e-04,  8.9215886e-05,\n",
              "         5.9061643e-04, -3.5829138e-04,  1.0690422e-03, -1.0016494e-03,\n",
              "        -8.4468885e-04,  1.1520126e-03, -7.4587454e-04, -1.7371800e-04,\n",
              "        -3.1562877e-04, -8.8293964e-05,  2.6498261e-04, -6.1121903e-04,\n",
              "         1.4717599e-04,  4.9039425e-04,  1.5544670e-03, -2.1518156e-04,\n",
              "        -5.6171068e-04, -8.9375867e-04, -3.9236047e-04, -1.2576682e-03,\n",
              "         2.1619594e-03, -5.6162738e-04, -9.4497146e-04, -8.4388163e-04,\n",
              "         1.1252872e-04, -6.2219071e-05,  7.6205167e-04, -6.7485450e-04],\n",
              "       dtype=float32)>,\n",
              " <tf.Variable 'Variable:0' shape=(3, 3, 32, 16) dtype=float32, numpy=\n",
              " array([[[[-7.57246017e-02,  1.07084394e-01, -1.45789951e-01, ...,\n",
              "            2.53435038e-02, -9.11993086e-02,  1.82900939e-03],\n",
              "          [ 4.94959988e-02,  5.47921211e-02,  1.10309990e-02, ...,\n",
              "            4.93804775e-02,  7.40468651e-02, -5.69645874e-02],\n",
              "          [ 6.64326027e-02, -2.86432393e-02, -1.45837352e-01, ...,\n",
              "            1.03178479e-01, -9.69865844e-02,  1.47754088e-01],\n",
              "          ...,\n",
              "          [ 1.11539893e-01, -1.41916396e-02,  3.00050806e-03, ...,\n",
              "            7.78854936e-02, -7.73710161e-02, -3.13520953e-02],\n",
              "          [-1.15536034e-01,  9.47891697e-02, -5.51535636e-02, ...,\n",
              "           -3.92508656e-02,  8.82638320e-02,  4.69188280e-02],\n",
              "          [-8.16641375e-02, -1.38012674e-02,  1.75640881e-01, ...,\n",
              "            4.07691933e-02,  7.61437416e-02, -2.71812566e-02]],\n",
              " \n",
              "         [[ 1.70897711e-02,  4.67023067e-02, -4.69762497e-02, ...,\n",
              "            9.58382152e-04, -8.45339056e-03,  9.19748694e-02],\n",
              "          [-1.82977188e-02, -6.15487397e-02,  5.53966016e-02, ...,\n",
              "           -1.95604470e-02, -2.14264393e-01, -6.49093185e-03],\n",
              "          [-1.80620363e-03, -6.18367177e-03, -4.01630811e-02, ...,\n",
              "            3.35776731e-02,  2.19209138e-02,  8.75020493e-03],\n",
              "          ...,\n",
              "          [-4.84272577e-02,  3.50976922e-02, -1.10867033e-02, ...,\n",
              "           -5.31375408e-02,  9.39182267e-02, -1.19383954e-01],\n",
              "          [-8.73298123e-02, -1.76598430e-02,  1.30365193e-01, ...,\n",
              "           -9.82969906e-03, -4.61217202e-02,  5.57743199e-02],\n",
              "          [ 5.04340343e-02,  3.79583053e-02, -5.51013127e-02, ...,\n",
              "           -6.93089887e-02, -5.19053154e-02, -3.90696526e-03]],\n",
              " \n",
              "         [[-1.90077089e-02,  3.35433101e-03, -5.29647507e-02, ...,\n",
              "           -6.34907410e-02, -1.73038974e-01,  1.93448782e-01],\n",
              "          [ 8.97632632e-03,  8.76813382e-02, -3.48706245e-02, ...,\n",
              "           -5.98539449e-02, -4.72872220e-02,  5.02305292e-02],\n",
              "          [ 8.03585723e-02, -2.60660285e-03,  1.18087353e-02, ...,\n",
              "           -7.38527849e-02, -3.37960422e-02,  4.38206792e-02],\n",
              "          ...,\n",
              "          [ 3.15112993e-02,  5.48815653e-02, -2.17182934e-02, ...,\n",
              "           -3.93930599e-02,  3.16348150e-02,  7.04892427e-02],\n",
              "          [-4.42033708e-02, -7.96998963e-02, -1.27617508e-01, ...,\n",
              "           -1.12892948e-01,  5.98159842e-02, -5.66754676e-02],\n",
              "          [ 9.53082219e-02, -1.91580784e-02,  2.83385590e-02, ...,\n",
              "            3.19021940e-02, -3.24305892e-02,  4.35840078e-02]]],\n",
              " \n",
              " \n",
              "        [[[-8.90722722e-02, -3.00441477e-02,  1.57600686e-01, ...,\n",
              "           -3.54392864e-02,  1.75159365e-01, -3.83276674e-05],\n",
              "          [ 6.83586672e-02,  2.85748094e-02, -7.78731378e-03, ...,\n",
              "           -1.39559552e-01,  6.29206076e-02, -6.95450231e-02],\n",
              "          [-9.69399791e-03, -8.42301846e-02, -6.56088209e-03, ...,\n",
              "            1.26498848e-01,  8.65908456e-04,  9.69385430e-02],\n",
              "          ...,\n",
              "          [ 5.45231588e-02, -3.74264233e-02,  2.50485763e-02, ...,\n",
              "            2.23155133e-02,  2.64123566e-02,  9.33985412e-02],\n",
              "          [ 1.45148426e-01, -8.02963004e-02,  1.70281772e-02, ...,\n",
              "            8.07317346e-02, -4.51783836e-02, -7.97076989e-03],\n",
              "          [ 2.38112304e-02, -3.33871059e-02,  2.36996979e-01, ...,\n",
              "           -8.78521800e-03, -4.22070771e-02, -2.55319439e-02]],\n",
              " \n",
              "         [[ 8.21135864e-02, -8.09478015e-02, -9.24135745e-02, ...,\n",
              "            1.80696025e-02,  1.57504273e-03, -8.98419768e-02],\n",
              "          [-9.32370201e-02, -2.19939466e-04,  6.75365701e-02, ...,\n",
              "            7.04395697e-02,  1.92737773e-01,  1.09160952e-01],\n",
              "          [-1.17469341e-01,  6.81640133e-02, -2.99579706e-02, ...,\n",
              "            2.84470171e-02,  7.12251440e-02, -9.58862901e-02],\n",
              "          ...,\n",
              "          [ 1.93299085e-03,  7.43756294e-02, -1.15876190e-01, ...,\n",
              "            2.90698390e-02,  2.91359960e-03, -5.83319888e-02],\n",
              "          [ 1.33605050e-02,  3.29929553e-02,  6.18346147e-02, ...,\n",
              "            1.13843568e-01, -4.78686802e-02, -6.41591474e-02],\n",
              "          [-2.11169329e-02, -1.02808863e-01,  2.44377144e-02, ...,\n",
              "            1.02545461e-02, -1.65452823e-01,  9.07512456e-02]],\n",
              " \n",
              "         [[-9.41061229e-02,  1.97649255e-01,  2.32586004e-02, ...,\n",
              "           -7.62710422e-02,  4.20997944e-03,  9.66644213e-02],\n",
              "          [ 5.40057831e-02,  1.88787863e-01,  1.39314011e-01, ...,\n",
              "           -1.21574588e-02, -4.13893983e-02, -2.00411901e-02],\n",
              "          [ 1.10862546e-01, -6.27647415e-02,  9.41509008e-03, ...,\n",
              "           -4.08920124e-02, -6.60426542e-02,  1.68877468e-02],\n",
              "          ...,\n",
              "          [ 1.18482858e-02, -9.12796408e-02, -9.38118249e-03, ...,\n",
              "            5.28813191e-02,  9.26745310e-02,  7.61981457e-02],\n",
              "          [ 1.01668820e-01,  1.48137724e-02, -1.32966563e-01, ...,\n",
              "           -8.82899761e-02, -2.78752558e-02, -1.42937824e-01],\n",
              "          [ 2.93207113e-02, -1.06240764e-01, -1.25279337e-01, ...,\n",
              "            2.75172349e-02,  6.26551136e-02, -2.37760935e-02]]],\n",
              " \n",
              " \n",
              "        [[[ 2.53638416e-03,  8.83937031e-02,  1.88513957e-02, ...,\n",
              "           -1.15371585e-01, -1.82729010e-02, -2.71033514e-02],\n",
              "          [-3.69524918e-02,  4.24801372e-02,  6.39860344e-04, ...,\n",
              "           -5.54906912e-02, -2.10530192e-01, -7.10913837e-02],\n",
              "          [-1.33370966e-01, -7.37749180e-03,  3.21355201e-02, ...,\n",
              "           -2.30010711e-02, -1.02221556e-02, -2.64442675e-02],\n",
              "          ...,\n",
              "          [-2.41443235e-02, -1.01407710e-02, -1.63901374e-01, ...,\n",
              "            1.03931800e-01,  2.04548791e-01, -2.30548710e-01],\n",
              "          [-1.49420472e-02,  4.94154869e-03,  3.68250795e-02, ...,\n",
              "           -7.11385012e-02,  1.08922333e-01, -8.57950747e-02],\n",
              "          [ 2.70496339e-01,  1.20773457e-01, -4.91200276e-02, ...,\n",
              "           -4.92666401e-02, -1.32423833e-01,  1.10205628e-01]],\n",
              " \n",
              "         [[ 4.74623106e-02,  7.64442608e-02, -4.88884188e-02, ...,\n",
              "           -1.96554452e-01, -6.56921044e-02, -3.47636454e-02],\n",
              "          [-9.62739885e-02, -1.85371414e-02,  1.32136092e-01, ...,\n",
              "           -9.63657796e-02, -1.03427488e-02, -9.49267820e-02],\n",
              "          [ 2.33961698e-02, -7.17858598e-02, -2.42061224e-02, ...,\n",
              "           -3.53296958e-02,  1.09996065e-01,  5.65239601e-02],\n",
              "          ...,\n",
              "          [-3.92132103e-02, -7.56434798e-02,  1.03705697e-01, ...,\n",
              "            1.06041878e-01, -4.71442379e-02, -1.42885670e-02],\n",
              "          [-5.67277111e-02,  1.21681644e-02,  1.07633859e-01, ...,\n",
              "           -1.39248511e-02,  5.60356081e-02,  2.69772112e-02],\n",
              "          [-6.62216321e-02,  1.03590637e-01,  1.45709813e-01, ...,\n",
              "            3.57240662e-02, -4.60069394e-03,  3.03665362e-02]],\n",
              " \n",
              "         [[ 4.75645103e-02,  4.04847600e-02, -9.83819962e-02, ...,\n",
              "            6.35949746e-02, -1.98602546e-02,  2.11744588e-02],\n",
              "          [-2.06245128e-02,  4.10545655e-02,  4.47703078e-02, ...,\n",
              "            1.47483304e-01, -9.72564965e-02,  4.91132215e-02],\n",
              "          [ 6.12085685e-03,  5.89983240e-02, -6.34523779e-02, ...,\n",
              "           -5.62380068e-02, -1.17923632e-01, -1.99725822e-01],\n",
              "          ...,\n",
              "          [-5.82382381e-02,  9.87609029e-02, -7.05956370e-02, ...,\n",
              "           -6.51451424e-02,  1.23305961e-01, -1.16825216e-01],\n",
              "          [ 3.33918408e-02,  5.70031349e-03, -1.75393801e-02, ...,\n",
              "           -1.33125801e-02,  3.97499390e-02, -6.33791685e-02],\n",
              "          [-3.64797655e-03,  1.59554034e-01,  1.12626009e-01, ...,\n",
              "            6.41650259e-02,  1.11025840e-01, -6.84025213e-02]]]],\n",
              "       dtype=float32)>,\n",
              " <tf.Variable 'Variable:0' shape=(16,) dtype=float32, numpy=\n",
              " array([-1.1825802e-04, -2.0498240e-03,  1.4876901e-03, -3.7822773e-04,\n",
              "         3.8121855e-03, -2.0349321e-03,  8.7680767e-04,  2.7363497e-04,\n",
              "        -5.7921954e-04,  2.6420783e-05, -7.4626540e-04, -5.9767630e-05,\n",
              "        -2.1273830e-04, -1.5990440e-03, -8.8020697e-06, -2.0954607e-04],\n",
              "       dtype=float32)>,\n",
              " <tf.Variable 'Variable:0' shape=(16384, 10) dtype=float32, numpy=\n",
              " array([[-0.00095433,  0.00418658,  0.01038539, ..., -0.00789731,\n",
              "         -0.01043569,  0.01474922],\n",
              "        [-0.01479895,  0.0134168 ,  0.0049406 , ..., -0.0057148 ,\n",
              "         -0.00680141,  0.01079442],\n",
              "        [-0.00509104, -0.03347316, -0.00084417, ..., -0.01633503,\n",
              "          0.00315659, -0.00782966],\n",
              "        ...,\n",
              "        [-0.00532481,  0.02643173,  0.01627083, ..., -0.01470135,\n",
              "         -0.01007496, -0.00783918],\n",
              "        [ 0.0220806 ,  0.00432369, -0.00219922, ..., -0.00259946,\n",
              "         -0.0144361 , -0.0001528 ],\n",
              "        [ 0.02370145, -0.00703074, -0.00684548, ...,  0.01147833,\n",
              "          0.01536488,  0.00066104]], dtype=float32)>,\n",
              " <tf.Variable 'Variable:0' shape=(10,) dtype=float32, numpy=\n",
              " array([-0.00042016, -0.00048524,  0.00409924, -0.00070157, -0.00022321,\n",
              "        -0.00044638, -0.00010471, -0.0002495 , -0.00025901, -0.00016214],\n",
              "       dtype=float32)>]"
            ]
          },
          "metadata": {
            "tags": []
          },
          "execution_count": 20
        }
      ]
    },
    {
      "cell_type": "markdown",
      "metadata": {
        "id": "B7PDGLjbFqPd",
        "colab_type": "text"
      },
      "source": [
        "# Part V: Train a _GREAT_ model on CIFAR-10!\n",
        "\n",
        "In this section you can experiment with whatever ConvNet architecture you'd like on CIFAR-10.\n",
        "\n",
        "You should experiment with architectures, hyperparameters, loss functions, regularization, or anything else you can think of to train a model that achieves **at least 70%** accuracy on the **validation** set within 10 epochs. You can use the built-in train function, the `train_part34` function from above, or implement your own training loop.\n",
        "\n",
        "Describe what you did at the end of the notebook.\n",
        "\n",
        "### Some things you can try:\n",
        "- **Filter size**: Above we used 5x5 and 3x3; is this optimal?\n",
        "- **Number of filters**: Above we used 16 and 32 filters. Would more or fewer do better?\n",
        "- **Pooling**: We didn't use any pooling above. Would this improve the model?\n",
        "- **Normalization**: Would your model be improved with batch normalization, layer normalization, group normalization, or some other normalization strategy?\n",
        "- **Network architecture**: The ConvNet above has only three layers of trainable parameters. Would a deeper model do better? Good architectures to try include:\n",
        "    - [conv-relu-pool]xN -> [affine]xM -> [softmax or SVM]\n",
        "    - [conv-relu-conv-relu-pool]xN -> [affine]xM -> [softmax or SVM]\n",
        "    - [batchnorm-relu-conv]xN -> [affine]xM -> [softmax or SVM]\n",
        "- **Global average pooling**: Instead of flattening after the final convolutional layer, would global average pooling do better? This strategy is used for example in Google's Inception network and in Residual Networks.\n",
        "- **Regularization**: Would some kind of regularization improve performance? Maybe weight decay or dropout?\n",
        "\n",
        "### NOTE: Batch Normalization / Dropout\n",
        "If you are using Batch Normalization and Dropout, remember to pass `is_training=True` if you use the `train_part34()` function. BatchNorm and Dropout layers have different behaviors at training and inference time. `training` is a specific keyword argument reserved for this purpose in any `tf.keras.Model`'s `call()` function. Read more about this here : https://www.tensorflow.org/versions/r2.0/api_docs/python/tf/keras/layers/BatchNormalization#methods\n",
        "https://www.tensorflow.org/versions/r2.0/api_docs/python/tf/keras/layers/Dropout#methods\n",
        "\n",
        "### Tips for training\n",
        "For each network architecture that you try, you should tune the learning rate and other hyperparameters. When doing this there are a couple important things to keep in mind: \n",
        "\n",
        "- If the parameters are working well, you should see improvement within a few hundred iterations\n",
        "- Remember the coarse-to-fine approach for hyperparameter tuning: start by testing a large range of hyperparameters for just a few training iterations to find the combinations of parameters that are working at all.\n",
        "- Once you have found some sets of parameters that seem to work, search more finely around these parameters. You may need to train for more epochs.\n",
        "- You should use the validation set for hyperparameter search, and save your test set for evaluating your architecture on the best parameters as selected by the validation set.\n",
        "\n",
        "### Going above and beyond\n",
        "If you are feeling adventurous there are many other features you can implement to try and improve your performance. You are **not required** to implement any of these, but don't miss the fun if you have time!\n",
        "\n",
        "- Alternative optimizers: you can try Adam, Adagrad, RMSprop, etc.\n",
        "- Alternative activation functions such as leaky ReLU, parametric ReLU, ELU, or MaxOut.\n",
        "- Model ensembles\n",
        "- Data augmentation\n",
        "- New Architectures\n",
        "  - [ResNets](https://arxiv.org/abs/1512.03385) where the input from the previous layer is added to the output.\n",
        "  - [DenseNets](https://arxiv.org/abs/1608.06993) where inputs into previous layers are concatenated together.\n",
        "  - [This blog has an in-depth overview](https://chatbotslife.com/resnets-highwaynets-and-densenets-oh-my-9bb15918ee32)\n",
        "  \n",
        "### Have fun and happy training! "
      ]
    },
    {
      "cell_type": "code",
      "metadata": {
        "id": "wGdq6ixGFqPf",
        "colab_type": "code",
        "outputId": "e4b6453e-7f8a-4079-b9b2-2b87a12535f5",
        "colab": {
          "base_uri": "https://localhost:8080/",
          "height": 407
        }
      },
      "source": [
        "class CustomConvNet(tf.keras.Model):\n",
        "    def __init__(self):\n",
        "        super(CustomConvNet, self).__init__()\n",
        "        ############################################################################\n",
        "        # TODO: Construct a model that performs well on CIFAR-10                   #\n",
        "        ############################################################################\n",
        "        # *****START OF YOUR CODE (DO NOT DELETE/MODIFY THIS LINE)*****\n",
        "\n",
        "        self.bn1 = tf.keras.layers.BatchNormalization()\n",
        "        self.bn2 = tf.keras.layers.BatchNormalization()\n",
        "        self.conv1 = tf.keras.layers.Conv2D(64, 5, padding=\"same\", activation=\"relu\")\n",
        "        self.conv2 = tf.keras.layers.Conv2D(64, 5, padding=\"same\", activation=\"relu\")\n",
        "        self.maxpool1 = tf.keras.layers.MaxPooling2D(2)\n",
        "        self.conv3 = tf.keras.layers.Conv2D(32, 3, padding=\"same\", activation=\"relu\")\n",
        "        self.conv4 = tf.keras.layers.Conv2D(32, 3, padding=\"same\", activation=\"relu\")\n",
        "        self.maxpool2 = tf.keras.layers.MaxPooling2D(2)\n",
        "        self.flatten = tf.keras.layers.Flatten()\n",
        "        self.dense1 = tf.keras.layers.Dense(150, activation='relu')\n",
        "        self.dense2 = tf.keras.layers.Dense(80, activation='relu')\n",
        "        self.softmax = tf.keras.layers.Dense(10, activation='softmax')\n",
        "        self.dropout = tf.keras.layers.Dropout(0.5)\n",
        "\n",
        "        # *****END OF YOUR CODE (DO NOT DELETE/MODIFY THIS LINE)*****\n",
        "        ############################################################################\n",
        "        #                            END OF YOUR CODE                              #\n",
        "        ############################################################################\n",
        "    \n",
        "    def call(self, input_tensor, training=False):\n",
        "        ############################################################################\n",
        "        # TODO: Construct a model that performs well on CIFAR-10                   #\n",
        "        ############################################################################\n",
        "        # *****START OF YOUR CODE (DO NOT DELETE/MODIFY THIS LINE)*****\n",
        "\n",
        "        x = self.bn1(input_tensor)\n",
        "        x = self.conv1(x)\n",
        "        x = self.conv2(x)\n",
        "        x = self.maxpool1(x)\n",
        "        x = self.bn2(x)\n",
        "        x = self.conv3(x)\n",
        "        x = self.conv4(x)\n",
        "        x = self.maxpool2(x)\n",
        "        x = self.flatten(x)\n",
        "        x = self.dense1(x)\n",
        "        x = self.dropout(x)\n",
        "        x = self.dense2(x)\n",
        "        return self.softmax(x)\n",
        "\n",
        "        # *****END OF YOUR CODE (DO NOT DELETE/MODIFY THIS LINE)*****\n",
        "        ############################################################################\n",
        "        #                            END OF YOUR CODE                              #\n",
        "        ############################################################################\n",
        "        \n",
        "        return x\n",
        "\n",
        "device = '/device:GPU:0'   # Change this to a CPU/GPU as you wish!\n",
        "# device = '/cpu:0'        # Change this to a CPU/GPU as you wish!\n",
        "print_every = 700\n",
        "num_epochs = 10\n",
        "\n",
        "model = CustomConvNet()\n",
        "\n",
        "def model_init_fn():\n",
        "    return CustomConvNet()\n",
        "\n",
        "def optimizer_init_fn():\n",
        "    learning_rate = 1e-3\n",
        "    return tf.keras.optimizers.Adam(learning_rate)\n",
        "\n",
        "# self-implemented function\n",
        "def train_part34(model, train_data, val_data, num_epochs, opt='adam', lr=1e-3, shuffle=False, callback=None):\n",
        "    if opt == 'adam':\n",
        "        opt = tf.keras.optimizers.Adam(lr)\n",
        "    model.compile(optimizer=opt, loss='sparse_categorical_crossentropy', metrics=['accuracy'])\n",
        "    X_train, y_train = train_data\n",
        "    if callback is not None:\n",
        "        model.fit(X_train, y_train, batch_size=32, epochs=num_epochs, callbacks=[callback], validation_data=val_data, shuffle=shuffle)\n",
        "    else:\n",
        "        model.fit(X_train, y_train, batch_size=32, epochs=num_epochs, validation_data=val_data, shuffle=shuffle)\n",
        "\n",
        "print('Train and Test')\n",
        "train_data = (X_train, y_train)\n",
        "val_data = (X_val, y_val)\n",
        "callback = tf.keras.callbacks.EarlyStopping(monitor='val_loss', mode='min', patience=3)\n",
        "\n",
        "train_part34(model, train_data, val_data, num_epochs=10, shuffle=True, callback=callback)\n",
        "\n",
        "# print('Train')\n",
        "# trained_params =train_part34(model_init_fn, optimizer_init_fn, num_epochs=num_epochs, is_training=True)\n",
        "\n",
        "# print('Test')\n",
        "# check_accuracy(test_dset, model_init_fn, trained_params)"
      ],
      "execution_count": 22,
      "outputs": [
        {
          "output_type": "stream",
          "text": [
            "Train and Test\n",
            "Train on 49000 samples, validate on 1000 samples\n",
            "Epoch 1/10\n",
            "49000/49000 [==============================] - 10s 203us/sample - loss: 1.6013 - accuracy: 0.4136 - val_loss: 1.2980 - val_accuracy: 0.5410\n",
            "Epoch 2/10\n",
            "49000/49000 [==============================] - 9s 191us/sample - loss: 1.2229 - accuracy: 0.5654 - val_loss: 1.0466 - val_accuracy: 0.6330\n",
            "Epoch 3/10\n",
            "49000/49000 [==============================] - 9s 189us/sample - loss: 1.0482 - accuracy: 0.6317 - val_loss: 0.9673 - val_accuracy: 0.6730\n",
            "Epoch 4/10\n",
            "49000/49000 [==============================] - 9s 191us/sample - loss: 0.9393 - accuracy: 0.6724 - val_loss: 0.8810 - val_accuracy: 0.6870\n",
            "Epoch 5/10\n",
            "49000/49000 [==============================] - 9s 190us/sample - loss: 0.8578 - accuracy: 0.7018 - val_loss: 0.8275 - val_accuracy: 0.7190\n",
            "Epoch 6/10\n",
            "49000/49000 [==============================] - 9s 191us/sample - loss: 0.7861 - accuracy: 0.7274 - val_loss: 0.7967 - val_accuracy: 0.7480\n",
            "Epoch 7/10\n",
            "49000/49000 [==============================] - 9s 190us/sample - loss: 0.7327 - accuracy: 0.7424 - val_loss: 0.7975 - val_accuracy: 0.7430\n",
            "Epoch 8/10\n",
            "49000/49000 [==============================] - 9s 191us/sample - loss: 0.6898 - accuracy: 0.7610 - val_loss: 0.8259 - val_accuracy: 0.7470\n",
            "Epoch 9/10\n",
            "49000/49000 [==============================] - 9s 191us/sample - loss: 0.6540 - accuracy: 0.7725 - val_loss: 0.7241 - val_accuracy: 0.7560\n",
            "Epoch 10/10\n",
            "49000/49000 [==============================] - 9s 191us/sample - loss: 0.6175 - accuracy: 0.7848 - val_loss: 0.7345 - val_accuracy: 0.7500\n"
          ],
          "name": "stdout"
        }
      ]
    },
    {
      "cell_type": "markdown",
      "metadata": {
        "tags": [
          "pdf-inline"
        ],
        "id": "AhEb4UBtFqPj",
        "colab_type": "text"
      },
      "source": [
        "## Describe what you did \n",
        "\n",
        "In the cell below you should write an explanation of what you did, any additional features that you implemented, and/or any graphs that you made in the process of training and evaluating your network."
      ]
    },
    {
      "cell_type": "markdown",
      "metadata": {
        "tags": [
          "pdf-inline"
        ],
        "id": "oTFFNoHxFqPm",
        "colab_type": "text"
      },
      "source": [
        "TODO: Tell us what you did\n",
        "\n",
        "The neural network has a [batchnorm-conv-relu-conv-relu-maxpool]x2 -> [flatten] -> [affine] -> [dropout] -> [affine] ->  [softmax]  architecture. There are two 2D convolution blocks to learn image representations, and the inputs to each of them is normalised with batch mean and standard deviation. This also has slight regularisation effects. The flatten layer helps to prepare the convolution outputs as inputs into the affine layers. The dropout layer helps to regularise the training and prevent overfitting. The final softmax activation layer with 10 scores ensures the final prediction will be 1 of the 10 classes in the CIFAR-10 dataset."
      ]
    }
  ]
}