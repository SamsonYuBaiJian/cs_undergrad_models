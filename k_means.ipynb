{
 "cells": [
  {
   "cell_type": "markdown",
   "metadata": {},
   "source": [
    "Name: Samson Yu Bai Jian<br>\n",
    "Student ID: 1002819"
   ]
  },
  {
   "cell_type": "markdown",
   "metadata": {},
   "source": [
    "# 1. K-Means [30 points]"
   ]
  },
  {
   "cell_type": "code",
   "execution_count": 1,
   "metadata": {},
   "outputs": [
    {
     "name": "stdout",
     "output_type": "stream",
     "text": [
      "Training...\n",
      "\n",
      "Iteration 1 done.\n",
      "Iteration 2 done.\n",
      "Iteration 3 done.\n",
      "Iteration 4 done.\n",
      "Iteration 5 done.\n",
      "Iteration 6 done.\n",
      "Iteration 7 done.\n",
      "Iteration 8 done.\n",
      "Iteration 9 done.\n",
      "Iteration 10 done.\n",
      "Iteration 11 done.\n",
      "Iteration 12 done.\n",
      "Iteration 13 done.\n",
      "Iteration 14 done.\n",
      "Iteration 15 done.\n",
      "Iteration 16 done.\n",
      "Iteration 17 done.\n",
      "Iteration 18 done.\n",
      "Iteration 19 done.\n",
      "Iteration 20 done.\n",
      "Iteration 21 done.\n",
      "Iteration 22 done.\n",
      "Iteration 23 done.\n",
      "Iteration 24 done.\n",
      "Iteration 25 done.\n",
      "Iteration 26 done.\n",
      "Iteration 27 done.\n",
      "Iteration 28 done.\n",
      "Iteration 29 done.\n",
      "Iteration 30 done.\n",
      "Iteration 31 done.\n",
      "Iteration 32 done.\n",
      "Iteration 33 done.\n",
      "Iteration 34 done.\n",
      "Iteration 35 done.\n",
      "Iteration 36 done.\n",
      "Iteration 37 done.\n",
      "Iteration 38 done.\n",
      "Iteration 39 done.\n",
      "Iteration 40 done.\n",
      "Iteration 41 done.\n",
      "Iteration 42 done.\n",
      "Iteration 43 done.\n",
      "Iteration 44 done.\n",
      "Iteration 45 done.\n",
      "Iteration 46 done.\n",
      "Iteration 47 done.\n",
      "Iteration 48 done.\n",
      "\n",
      "Training done.\n"
     ]
    }
   ],
   "source": [
    "# INSTRUCTION: Put the path of the \"hw2-image.txt\" file here\n",
    "data_file = 'hw2_data/HW2_data/1/hw2-image.txt'\n",
    "\n",
    "def squared_euclidean_distance(x1,x2):\n",
    "    assert len(x1) == len(x2)\n",
    "    \n",
    "    distance = 0\n",
    "    \n",
    "    for i in range(len(x1)):\n",
    "        distance += abs((x1[i]-x2[i])**2)\n",
    "    \n",
    "    return distance\n",
    "\n",
    "def compute_centroid(points):\n",
    "    # If no points are closed to a centroid, remove centroid\n",
    "    if len(points) == 0:\n",
    "        return False\n",
    "    \n",
    "    dim = len(points[0])\n",
    "    length = len(points)\n",
    "    \n",
    "    total = [0 for _ in range(dim)]\n",
    "    \n",
    "    for p in points:\n",
    "        for d in range(dim):\n",
    "            total[d] += p[d]\n",
    "            \n",
    "    for d in range(dim):\n",
    "        total[d] = total[d]/length\n",
    "        \n",
    "    return total\n",
    "\n",
    "def k_means(data_file, k, centroids):\n",
    "    assert k == len(centroids) and k > 0\n",
    "    \n",
    "    # Data handling\n",
    "    raw_data = open(data_file, 'r')\n",
    "    data = [list(map(int, line.strip('\\n').split(' '))) for line in raw_data.readlines()]\n",
    "    \n",
    "    # Set class label for each datapoint\n",
    "    class_labels = [None for _ in data]\n",
    "    \n",
    "    # Create distance list for plotting\n",
    "    distance_list = []\n",
    "        \n",
    "    iter_count = 0\n",
    "    \n",
    "    print(\"Training...\\n\")\n",
    "    \n",
    "    while True:\n",
    "        # Assign each instance to class with nearest centroid\n",
    "        avg_distance = 0\n",
    "        class_points_dict = {}\n",
    "        for i in range(k):\n",
    "            class_points_dict[i] = []\n",
    "        for j in range(len(data)):\n",
    "            for i in range(k):\n",
    "                if i == 0:\n",
    "                    min_distance = squared_euclidean_distance(data[j],centroids[i])\n",
    "                    min_class = 0\n",
    "                else:\n",
    "                    distance = squared_euclidean_distance(data[j],centroids[i])\n",
    "                    if distance < min_distance:\n",
    "                        min_distance = distance\n",
    "                        min_class = i\n",
    "            avg_distance += min_distance\n",
    "            class_labels[j] = min_class\n",
    "            class_points_dict[min_class].append(data[j])\n",
    "        \n",
    "        # Recompute centroid of each class\n",
    "        temp_centroids = []\n",
    "        for i in range(k):\n",
    "            temp_centroids.append(compute_centroid(class_points_dict[i]))\n",
    "        # Remove centroid(s) of cluster(s) that have no points nearest to them\n",
    "        final_temp_centroids = []\n",
    "        for i in range(len(temp_centroids)):\n",
    "            if temp_centroids[i] != False:\n",
    "                final_temp_centroids.append(temp_centroids[i])\n",
    "            else:\n",
    "                k -= 1\n",
    "        \n",
    "        iter_count += 1\n",
    "        distance_list.append(avg_distance/len(data))\n",
    "        # print(\"Iteration \" + str(iter_count) + \": number of clusters = \" + str(k) + \", SED from each pixel to the nearest centroid = \" + str(avg_distance/len(data)))\n",
    "        print(\"Iteration \" + str(iter_count) + \" done.\")\n",
    "        \n",
    "        # Break when assignments and centroids stop changing\n",
    "        if final_temp_centroids == centroids:\n",
    "            print(\"\\nTraining done.\")\n",
    "            break\n",
    "        else:\n",
    "            centroids = final_temp_centroids\n",
    "    \n",
    "    # return information for (a), (b), (c), (d) and visualisation\n",
    "    return k, centroids, class_points_dict, distance_list, class_labels\n",
    "\n",
    "# Initialisation of centroids\n",
    "initial_centroids = [\n",
    "    [255, 255, 255],\n",
    "    [255, 0, 0],\n",
    "    [128, 0, 0],\n",
    "    [0, 255, 0],\n",
    "    [0, 128, 0],\n",
    "    [0, 0, 255],\n",
    "    [0, 0, 128],\n",
    "    [0, 0, 0]\n",
    "]\n",
    "\n",
    "final_k, final_centroids, class_points_dict, distance_list, class_labels = k_means(data_file, 8, initial_centroids)"
   ]
  },
  {
   "cell_type": "markdown",
   "metadata": {},
   "source": [
    "## (a) How many clusters there are in the end. (A cluster can “disappear” in one iteration of the algorithm if no vectors are closest to its centroid.)"
   ]
  },
  {
   "cell_type": "code",
   "execution_count": 2,
   "metadata": {},
   "outputs": [
    {
     "data": {
      "text/plain": [
       "6"
      ]
     },
     "execution_count": 2,
     "metadata": {},
     "output_type": "execute_result"
    }
   ],
   "source": [
    "final_k"
   ]
  },
  {
   "cell_type": "markdown",
   "metadata": {},
   "source": [
    "## (b) The final centroids of each cluster."
   ]
  },
  {
   "cell_type": "code",
   "execution_count": 3,
   "metadata": {},
   "outputs": [
    {
     "name": "stdout",
     "output_type": "stream",
     "text": [
      "Centroid for cluster 1 = [241.22961460446248, 238.62515212981745, 233.86288032454362]\n",
      "Centroid for cluster 2 = [194.41158657011192, 136.33311389071758, 90.94364713627387]\n",
      "Centroid for cluster 3 = [136.2655562958028, 61.08973065575331, 10.103854573141716]\n",
      "Centroid for cluster 4 = [157.2917327293318, 97.59397508493771, 51.43329558323896]\n",
      "Centroid for cluster 5 = [78.9274371361328, 37.10828688219993, 13.070704818530906]\n",
      "Centroid for cluster 6 = [25.978002322570312, 23.235754234686386, 23.605990629630124]\n"
     ]
    }
   ],
   "source": [
    "for i in range(len(final_centroids)):\n",
    "    print(\"Centroid for cluster \" + str(i+1) + \" = \" + str(final_centroids[i]))"
   ]
  },
  {
   "cell_type": "markdown",
   "metadata": {},
   "source": [
    "## (c) The number of pixels associated to each cluster."
   ]
  },
  {
   "cell_type": "code",
   "execution_count": 4,
   "metadata": {},
   "outputs": [
    {
     "name": "stdout",
     "output_type": "stream",
     "text": [
      "Number of pixels in cluster 1 = 4930\n",
      "Number of pixels in cluster 2 = 15190\n",
      "Number of pixels in cluster 3 = 52535\n",
      "Number of pixels in cluster 4 = 22075\n",
      "Number of pixels in cluster 5 = 40365\n",
      "Number of pixels in cluster 6 = 74917\n"
     ]
    }
   ],
   "source": [
    "cluster_pixel_num = [len(class_points_dict[i]) for i in range(final_k)]\n",
    "for i in range(len(cluster_pixel_num)):\n",
    "    print(\"Number of pixels in cluster \" + str(i+1) + \" = \" + str(cluster_pixel_num[i]))"
   ]
  },
  {
   "cell_type": "markdown",
   "metadata": {},
   "source": [
    "## (d) Plot the squared Euclidean distance from each pixel to the nearest centroid after every iteration of the algorithm."
   ]
  },
  {
   "cell_type": "code",
   "execution_count": 5,
   "metadata": {},
   "outputs": [
    {
     "data": {
      "text/plain": [
       "<Figure size 640x480 with 1 Axes>"
      ]
     },
     "metadata": {},
     "output_type": "display_data"
    }
   ],
   "source": [
    "import matplotlib.pyplot as plt\n",
    "\n",
    "iter_list = [i for i in range(len(distance_list))]\n",
    "plt.plot(iter_list, distance_list)\n",
    "plt.title('Squared Euclidean Distance vs. Iteration')\n",
    "plt.ylabel('Squared Euclidean Distance')\n",
    "plt.xlabel('Iteration')\n",
    "plt.show()"
   ]
  },
  {
   "cell_type": "markdown",
   "metadata": {},
   "source": [
    "## Visualize your result by replacing each pixel with the centroid to which it is closest, and displaying the resulting image."
   ]
  },
  {
   "cell_type": "code",
   "execution_count": 6,
   "metadata": {},
   "outputs": [
    {
     "data": {
      "text/plain": [
       "<matplotlib.image.AxesImage at 0x7f0684142080>"
      ]
     },
     "execution_count": 6,
     "metadata": {},
     "output_type": "execute_result"
    },
    {
     "data": {
      "image/png": "[encoded data removed]",
      "text/plain": [
       "<Figure size 432x288 with 1 Axes>"
      ]
     },
     "metadata": {
      "needs_background": "light"
     },
     "output_type": "display_data"
    }
   ],
   "source": [
    "image_dim = (516, 407)\n",
    "\n",
    "raw_data = open(data_file, 'r')\n",
    "data = [list(map(int, line.strip('\\n').split(' '))) for line in raw_data.readlines()]\n",
    "\n",
    "# Check that image dimensions and total number of datapoints are equal\n",
    "assert (len(data) == image_dim[0] * image_dim[1])\n",
    "\n",
    "data_centroid = []\n",
    "centroids_colour = []\n",
    "for fc in final_centroids:\n",
    "    centroids_colour.append([int(fc[i]) for i in range(len(fc))])\n",
    "for cl in class_labels:\n",
    "    data_centroid.append(centroids_colour[cl])\n",
    "\n",
    "img = []\n",
    "for i in range(image_dim[0]):\n",
    "    temp_img = data_centroid[image_dim[1]*i:image_dim[1]*(i+1)]\n",
    "    img.append(temp_img)\n",
    "plt.imshow(img)"
   ]
  },
  {
   "cell_type": "markdown",
   "metadata": {},
   "source": [
    "## 2. K-Mediods [10 points]"
   ]
  },
  {
   "cell_type": "markdown",
   "metadata": {},
   "source": [
    "A. l∞ distance measure<br>\n",
    "B. l2 distance measure<br>\n",
    "C. l1 distance measure"
   ]
  },
  {
   "cell_type": "markdown",
   "metadata": {},
   "source": [
    "## 3. K-Means vs K-Mediods [10 points]"
   ]
  },
  {
   "cell_type": "markdown",
   "metadata": {},
   "source": [
    "Advantages of K-medoids:<br>\n",
    "- Find datapoints close to a certain datapoint, e.g. Google News, since centers are located among the data points themselves\n",
    "- The l1 distance metric used is more robust against outliers and noise, as it minimises the absolute differences instead of the squared differences; when the l2 loss function tries to adjust the model according to the outlier values, it will place more emphasis on the outliers\n",
    "- The medoid is closer to the median than the mean, so the medoid a breakdown point of roughly 50%, while the mean has a breakdown point of 1/N, where N is the number of original datapoints (a single large observation can throw it off) <br>\n",
    "\n",
    "Disadvantages of K-medoids:<br>\n",
    "- Computationally harder, since recomputation of the medoid in a cluster requires us to set each datapoint in the cluster as the medoid and calculate the sum of the distances between the datapoint and the other datapoints in the cluster\n",
    "- The clustering solution can depend significantly on the initialisation, and different results may be obtained for each run as K-medoids gives us the local minimum of the cost, which may not be the global optimal solution<br>"
   ]
  }
 ],
 "metadata": {
  "kernelspec": {
   "display_name": "Python 3",
   "language": "python",
   "name": "python3"
  },
  "language_info": {
   "codemirror_mode": {
    "name": "ipython",
    "version": 3
   },
   "file_extension": ".py",
   "mimetype": "text/x-python",
   "name": "python",
   "nbconvert_exporter": "python",
   "pygments_lexer": "ipython3",
   "version": "3.7.3"
  }
 },
 "nbformat": 4,
 "nbformat_minor": 2
}
