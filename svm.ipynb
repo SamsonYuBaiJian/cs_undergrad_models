{
 "cells": [
  {
   "cell_type": "markdown",
   "metadata": {},
   "source": [
    "Name: Samson Yu Bai Jian<br>\n",
    "Student ID: 1002819"
   ]
  },
  {
   "cell_type": "markdown",
   "metadata": {},
   "source": [
    "# Question 1 [20 points]"
   ]
  },
  {
   "cell_type": "markdown",
   "metadata": {},
   "source": [
    "Test accuracy for each kernel choice:<br>\n",
    "0: 84.375%<br>\n",
    "1: 81.25%<br>\n",
    "2: 90.625%<br>\n",
    "3: 43.75%<br>"
   ]
  },
  {
   "cell_type": "markdown",
   "metadata": {},
   "source": [
    "# Question 2 [30 points]"
   ]
  },
  {
   "cell_type": "markdown",
   "metadata": {},
   "source": [
    "## (a) [15 points]"
   ]
  },
  {
   "cell_type": "markdown",
   "metadata": {},
   "source": [
    "1(<b>w</b>·<b>x</b><sup>(1)</sup>) = 1(<b>w</b>·(1,1)<sup>T</sup>) = 1<br>\n",
    "-1(<b>w</b>·<b>x</b><sup>(2)</sup>) = -1(<b>w</b>·(1,0)<sup>T</sup>) = 1<br>\n",
    "Let <b>w</b> = [w1, w2]<br>\n",
    "w1 + w2 = 1<br>\n",
    "-w1 = 1<br>\n",
    "w2 = 2<br>\n",
    "<br>\n",
    "<u>w = [-1, 2]</u><br>\n",
    "<br>\n",
    "<u>margin = (|-1 + 2|) / sqrt(-1<sup>2</sup> + 2<sup>2</sup>) = 1/sqrt(5)</u>"
   ]
  },
  {
   "cell_type": "markdown",
   "metadata": {},
   "source": [
    "## (b) [15 points]"
   ]
  },
  {
   "cell_type": "markdown",
   "metadata": {},
   "source": [
    "1(<b>w</b>·<b>x</b><sup>(1)</sup> + b) = 1(<b>w</b>·(1,1)<sup>T</sup> + b) = 1<br>\n",
    "-1(<b>w</b>·<b>x</b><sup>(2)</sup> + b) = -1(<b>w</b>·(1,0)<sup>T</sup> + b) = 1<br>\n",
    "Let <b>w</b> = [w1, w2]<br>\n",
    "w1 + w2 + b = 1<br>\n",
    "-w1 + b = 1<br>\n",
    "w1 = b - 1<br>\n",
    "w2 + b - 1 + b = 1 => w2 = 2 - 2b<br>\n",
    "<br>\n",
    "<u><b>w</b> = [b - 1, 2 - 2b]</u><br>\n",
    "<br>\n",
    "margin = (|b - 1 + 2 - 2b|) / sqrt((b-1)<sup>2</sup> + (2-2b)<sup>2</sup>)<br>\n",
    "margin = (1 - b) / sqrt(b<sup>2</sup> - 2b + 1 + 4 - 8b + (2b)<sup>2</sup>)<br>\n",
    "margin = (1 - b) / sqrt(5b<sup>2</sup> - 10b + 5)<br>\n",
    "<u>margin = (1-b) / (sqrt(5(1-b)<sup>2</sup>) = 1 / sqrt(5)</u><br>\n",
    "<br>\n",
    "<b>w</b> is different when bias b is non-zero, with the inclusion of the bias values its values, but the margin remains the same."
   ]
  },
  {
   "cell_type": "markdown",
   "metadata": {},
   "source": [
    "# Question 3 [20 points]"
   ]
  },
  {
   "cell_type": "markdown",
   "metadata": {},
   "source": [
    "Following Mercer's Theorem, a necessary and sufficient condition for a function K to be a kernel is that its\n",
    "corresponding kernel matrix has to be symmetric and positive semidefinite. By definition, an n x n matrix K is positive semi-definite iff f K f' ≥ 0 for all f ∈ R<sup>n</sup>."
   ]
  },
  {
   "cell_type": "markdown",
   "metadata": {},
   "source": [
    "1. K(x, z) = K<sub>1</sub>(x, z)K<sub>2</sub>(x, z)\n",
    "\n",
    "f K f' = Σ<sub>ij</sub> f<sub>i</sub> K(x<sub>i</sub>,x<sub>j</sub>) f<sub>j</sub><br>\n",
    "= Σ<sub>ij</sub> f<sub>i</sub> (K<sub>1</sub>(x<sub>i</sub>,x<sub>j</sub>) K<sub>2</sub>(x<sub>i</sub>,x<sub>j</sub>)) f<sub>j</sub><br>\n",
    "= Σ<sub>ij</sub> (K<sub>1</sub>(x<sub>i</sub>,x<sub>j</sub>)) f<sub>i</sub> K<sub>2</sub>(x<sub>i</sub>,x<sub>j</sub>)) f<sub>j</sub><br>\n",
    "= Σ<sub>ij</sub> K<sub>1</sub>(x<sub>i</sub>,x<sub>j</sub>) K<sub>3</sub>(x<sub>i</sub>,x<sub>j</sub>), where K<sub>3</sub>(x<sub>i</sub>,x<sub>j</sub>) = f<sub>i</sub> K<sub>2</sub>(x<sub>i</sub>,x<sub>j</sub>)) f<sub>j</sub><br>\n",
    "= trace(K<sub>1</sub>K<sub>3</sub>)<br>\n",
    "\\>= 0<br>\n",
    "where the product matrix of K<sub>1</sub> and K<sub>3</sub> is definitely positive semi-definite. Hence, K is a kernel function."
   ]
  },
  {
   "cell_type": "markdown",
   "metadata": {},
   "source": [
    "2. K(x, z) = K<sub>1</sub>(x, z) + K<sub>2</sub>(x, z)\n",
    "\n",
    "f K f' = Σ<sub>ij</sub> f<sub>i</sub> K(x<sub>i</sub>,x<sub>j</sub>) f<sub>j</sub><br>\n",
    "= Σ<sub>ij</sub> f<sub>i</sub> (K<sub>1</sub>(x<sub>i</sub>,x<sub>j</sub>) + K<sub>2</sub>(x<sub>i</sub>,x<sub>j</sub>)) f<sub>j</sub><br>\n",
    "= Σ<sub>ij</sub> ((f<sub>i</sub> K<sub>1</sub>(x<sub>i</sub>,x<sub>j</sub>) f<sub>j</sub>) + (f<sub>i</sub> K<sub>2</sub>(x<sub>i</sub>,x<sub>j</sub>) f<sub>j</sub>))<br>\n",
    "= Σ<sub>ij</sub> (f<sub>i</sub> K<sub>1</sub>(x<sub>i</sub>,x<sub>j</sub>) f<sub>j</sub>) + Σ<sub>ij</sub> (f<sub>i</sub> K<sub>2</sub>(x<sub>i</sub>,x<sub>j</sub>) f<sub>j</sub>)<br>\n",
    "= (f<sub>i</sub> K<sub>1</sub> f<sub>j</sub>) + (f<sub>i</sub> K<sub>2</sub> f<sub>j</sub>)<br>\n",
    "\\>= 0<br>\n",
    "since both K<sub>1</sub> and K<sub>2</sub> are kernel functions. Hence, K is also a kernel function."
   ]
  },
  {
   "cell_type": "markdown",
   "metadata": {},
   "source": [
    "3. K(x, z) = K<sub>1</sub>(x, z) - K<sub>2</sub>(x, z)\n",
    "\n",
    "f K f' = Σ<sub>ij</sub> f<sub>i</sub> K(x<sub>i</sub>,x<sub>j</sub>) f<sub>j</sub><br>\n",
    "= Σ<sub>ij</sub> f<sub>i</sub> (K<sub>1</sub>(x<sub>i</sub>,x<sub>j</sub>) - K<sub>2</sub>(x<sub>i</sub>,x<sub>j</sub>)) f<sub>j</sub><br>\n",
    "= Σ<sub>ij</sub> ((f<sub>i</sub> K<sub>1</sub>(x<sub>i</sub>,x<sub>j</sub>) f<sub>j</sub>) - (f<sub>i</sub> K<sub>2</sub>(x<sub>i</sub>,x<sub>j</sub>) f<sub>j</sub>))<br>\n",
    "= Σ<sub>ij</sub> (f<sub>i</sub> K<sub>1</sub>(x<sub>i</sub>,x<sub>j</sub>) f<sub>j</sub>) - Σ<sub>ij</sub> (f<sub>i</sub> K<sub>2</sub>(x<sub>i</sub>,x<sub>j</sub>) f<sub>j</sub>)<br>\n",
    "= (f<sub>i</sub> K<sub>1</sub> f<sub>j</sub>) - (f<sub>i</sub> K<sub>2</sub> f<sub>j</sub>)<br>\n",
    "might not be >= 0<br>\n",
    "since both K<sub>1</sub> and K<sub>2</sub> are kernel functions and are both >= 0.\n",
    "\n",
    "Counter example: K<sub>1</sub> is an n x n identity matrix I, while K<sub>2</sub> is 2I. In this case, both of them are indeed kernel matrices, since [a,b]<sup>T</sup>I[a,b] = a<sup>2</sup> + b<sup>2</sup> and [a,b]<sup>T</sup>2I[a,b] = 2a<sup>2</sup> + 2b<sup>2</sup>. However, K<sub>1</sub> - K<sub>2</sub> = -I, which is not positive semi-definite as [a,b]<sup>T</sup>(-I)[a,b] = -a<sup>2</sup> - b<sup>2</sup>. Hence, K might not be a kernel function."
   ]
  },
  {
   "cell_type": "markdown",
   "metadata": {},
   "source": [
    "4. K(x, z) = f(x)f(z)\n",
    "\n",
    "Since f(x)f(z) = f(x)If(z) where I is an n x n identity matrix, K(x, z) is definitely positive semi-definite since [a,b]<sup>T</sup>I[a,b] = a<sup>2</sup> + b<sup>2</sup>. Hence, K is a kernel function."
   ]
  },
  {
   "cell_type": "markdown",
   "metadata": {},
   "source": [
    "# Question 4 [30 points]"
   ]
  },
  {
   "cell_type": "markdown",
   "metadata": {},
   "source": [
    "## (a) [10 points]"
   ]
  },
  {
   "cell_type": "markdown",
   "metadata": {},
   "source": [
    "The main two computational advantages are:<br>\n",
    "1) Prevent underflow that will result from multiplication of many probabilities in the maximum likelihood product calculations.<br>\n",
    "2) It is easier to compute the sum of values rather than the product of values."
   ]
  },
  {
   "cell_type": "markdown",
   "metadata": {},
   "source": [
    "## (b) [20 points]"
   ]
  },
  {
   "cell_type": "code",
   "execution_count": 2,
   "metadata": {
    "scrolled": false
   },
   "outputs": [
    {
     "name": "stdout",
     "output_type": "stream",
     "text": [
      "100 iterations trained...\n",
      "200 iterations trained...\n",
      "300 iterations trained...\n",
      "400 iterations trained...\n",
      "500 iterations trained...\n",
      "600 iterations trained...\n",
      "700 iterations trained...\n",
      "800 iterations trained...\n",
      "900 iterations trained...\n",
      "1000 iterations trained...\n",
      "1100 iterations trained...\n",
      "1200 iterations trained...\n",
      "1300 iterations trained...\n",
      "1400 iterations trained...\n",
      "1500 iterations trained...\n",
      "1600 iterations trained...\n",
      "1700 iterations trained...\n",
      "1800 iterations trained...\n",
      "1900 iterations trained...\n",
      "2000 iterations trained...\n",
      "2100 iterations trained...\n",
      "2200 iterations trained...\n",
      "2300 iterations trained...\n",
      "2400 iterations trained...\n",
      "2500 iterations trained...\n",
      "2600 iterations trained...\n",
      "2700 iterations trained...\n",
      "2800 iterations trained...\n",
      "2900 iterations trained...\n",
      "3000 iterations trained...\n",
      "3100 iterations trained...\n",
      "3200 iterations trained...\n",
      "3300 iterations trained...\n",
      "3400 iterations trained...\n",
      "3500 iterations trained...\n",
      "3600 iterations trained...\n",
      "3700 iterations trained...\n",
      "3800 iterations trained...\n",
      "3900 iterations trained...\n",
      "4000 iterations trained...\n",
      "4100 iterations trained...\n",
      "4200 iterations trained...\n",
      "4300 iterations trained...\n",
      "4400 iterations trained...\n",
      "4500 iterations trained...\n",
      "4600 iterations trained...\n",
      "4700 iterations trained...\n",
      "4800 iterations trained...\n",
      "4900 iterations trained...\n",
      "5000 iterations trained...\n",
      "5100 iterations trained...\n",
      "5200 iterations trained...\n",
      "5300 iterations trained...\n",
      "5400 iterations trained...\n",
      "5500 iterations trained...\n",
      "5600 iterations trained...\n",
      "5700 iterations trained...\n",
      "5800 iterations trained...\n",
      "5900 iterations trained...\n",
      "6000 iterations trained...\n",
      "6100 iterations trained...\n",
      "6200 iterations trained...\n",
      "6300 iterations trained...\n",
      "6400 iterations trained...\n",
      "6500 iterations trained...\n",
      "6600 iterations trained...\n",
      "6700 iterations trained...\n",
      "6800 iterations trained...\n",
      "6900 iterations trained...\n",
      "7000 iterations trained...\n",
      "7100 iterations trained...\n",
      "7200 iterations trained...\n",
      "7300 iterations trained...\n",
      "7400 iterations trained...\n",
      "7500 iterations trained...\n",
      "7600 iterations trained...\n",
      "7700 iterations trained...\n",
      "7800 iterations trained...\n",
      "7900 iterations trained...\n",
      "8000 iterations trained...\n",
      "8100 iterations trained...\n",
      "8200 iterations trained...\n",
      "8300 iterations trained...\n",
      "8400 iterations trained...\n",
      "8500 iterations trained...\n",
      "8600 iterations trained...\n",
      "8700 iterations trained...\n",
      "8800 iterations trained...\n",
      "8900 iterations trained...\n",
      "9000 iterations trained...\n",
      "9100 iterations trained...\n",
      "9200 iterations trained...\n",
      "9300 iterations trained...\n",
      "9400 iterations trained...\n",
      "9500 iterations trained...\n",
      "9600 iterations trained...\n",
      "9700 iterations trained...\n",
      "9800 iterations trained...\n",
      "9900 iterations trained...\n",
      "10000 iterations trained...\n"
     ]
    },
    {
     "data": {
      "image/png": "[encoded data removed]",
      "text/plain": [
       "<Figure size 432x288 with 1 Axes>"
      ]
     },
     "metadata": {
      "needs_background": "light"
     },
     "output_type": "display_data"
    }
   ],
   "source": [
    "import random\n",
    "import matplotlib.pyplot as plt\n",
    "import pandas as pd\n",
    "import numpy as np\n",
    "import json\n",
    "\n",
    "# INSTRUCTION: Install Matplotlib\n",
    "# INSTRUCTION: Replace with the path for your 'diabetes_train.csv' file\n",
    "diabetes_df = pd.read_csv(\"hw3-data/HW3_data/4/diabetes_train.csv\")\n",
    "y = diabetes_df[diabetes_df.columns[0]]\n",
    "x = diabetes_df[diabetes_df.columns[1:]]\n",
    "\n",
    "def get_log_likelihood(x, y, weight, weight_bias):\n",
    "    n = len(x)\n",
    "    \n",
    "    log_likelihood = 0\n",
    "    \n",
    "    for i in range(n):\n",
    "        log_likelihood += np.log(1 + np.exp(-np.dot(np.dot(x.iloc[i],weight) + weight_bias, y.iloc[i])))\n",
    "        \n",
    "    return (1/n) * log_likelihood[0]\n",
    "\n",
    "def logistic_regression_stochastic_gradient_descent(x, y, lr, iterations):    \n",
    "    n = len(x)\n",
    "    \n",
    "    log_likelihood_results = []\n",
    "    index = []\n",
    "    weight_dict = {}\n",
    "    \n",
    "    # for 20 features\n",
    "    weight = np.zeros((20,1))\n",
    "    weight_bias = np.zeros((1,1))\n",
    "    \n",
    "    for i in range(int(iterations)):\n",
    "        # sample one with replacement\n",
    "        num = random.randint(0, n-1)\n",
    "        weight -= lr * np.transpose(np.divide(-np.dot(y.iloc[num], x.iloc[num]),\n",
    "                                 1 + np.exp(np.dot(np.dot(x.iloc[num],weight) + weight_bias, y.iloc[num]))))\n",
    "        \n",
    "        weight_bias -= lr * (-y.iloc[num] / (1 + np.exp(np.dot(np.dot(x.iloc[num],weight) + weight_bias, y.iloc[num]))))\n",
    "            \n",
    "        if i+1 == 1:\n",
    "            pass\n",
    "        elif (i+1) % 100 == 0:\n",
    "#             print(\"θ for iteration \" + str(i+1) + \" are: \" + str(weight))\n",
    "            print(str(i+1) + \" iterations trained...\")\n",
    "            weight_dict[i+1] = weight.tolist()\n",
    "            \n",
    "            log_likelihood = get_log_likelihood(x, y, weight, weight_bias)\n",
    "            index.append(i+1)\n",
    "            log_likelihood_results.append(log_likelihood)\n",
    "    \n",
    "    # weights of model for every 100 iterations are saved in \"weights.json\"\n",
    "    json.dump(weight_dict, open('weights.json', 'w'))\n",
    "                  \n",
    "    plt.plot(index, log_likelihood_results)\n",
    "    plt.xlabel(\"Iteration\")\n",
    "    plt.ylabel(\"Log-likelihood\")\n",
    "    plt.title(\"Log-likelihood vs. Iteration\")\n",
    "    plt.show()\n",
    "    \n",
    "    return\n",
    "\n",
    "logistic_regression_stochastic_gradient_descent(x,y,0.1,10000)"
   ]
  },
  {
   "cell_type": "code",
   "execution_count": null,
   "metadata": {},
   "outputs": [],
   "source": []
  }
 ],
 "metadata": {
  "kernelspec": {
   "display_name": "Python 3",
   "language": "python",
   "name": "python3"
  },
  "language_info": {
   "codemirror_mode": {
    "name": "ipython",
    "version": 3
   },
   "file_extension": ".py",
   "mimetype": "text/x-python",
   "name": "python",
   "nbconvert_exporter": "python",
   "pygments_lexer": "ipython3",
   "version": "3.7.3"
  }
 },
 "nbformat": 4,
 "nbformat_minor": 2
}
